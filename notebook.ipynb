{
 "cells": [
  {
   "cell_type": "markdown",
   "metadata": {},
   "source": [
    "# Hotel Booking Cancellation Prediction"
   ]
  },
  {
   "cell_type": "code",
   "execution_count": 1,
   "metadata": {},
   "outputs": [],
   "source": [
    "from pathlib import Path\n",
    "\n",
    "import pandas as pd\n",
    "\n",
    "from sklearn.model_selection import train_test_split\n",
    "from sklearn.metrics import mutual_info_score\n",
    "from sklearn.metrics import roc_auc_score\n",
    "\n",
    "import xgboost as xgb\n",
    "\n",
    "from IPython.display import display\n",
    "from tqdm.auto import tqdm\n",
    "\n",
    "import matplotlib.pyplot as plt\n",
    "import seaborn as sns\n",
    "%matplotlib inline\n",
    "\n",
    "from utils import convert_target_to_binary, reset_index, parse_xgboost_output, train_xgboost\n",
    "\n",
    "from train import clean_and_standardize_data, prepare_data_for_model, train_model_and_evaluate"
   ]
  },
  {
   "cell_type": "code",
   "execution_count": 2,
   "metadata": {},
   "outputs": [],
   "source": [
    "DATA_DIR = Path().parent / 'data'\n",
    "FILE_PATH = DATA_DIR / 'hotel_reservations.csv'\n",
    "TARGET = 'booking_status'\n",
    "TARGET_VALUE = 'canceled'\n",
    "KFOLD_SPLITS = 5\n",
    "SEED = 1\n",
    "N_JOBS = -1"
   ]
  },
  {
   "cell_type": "code",
   "execution_count": 3,
   "metadata": {},
   "outputs": [
    {
     "data": {
      "text/html": [
       "<div>\n",
       "<style scoped>\n",
       "    .dataframe tbody tr th:only-of-type {\n",
       "        vertical-align: middle;\n",
       "    }\n",
       "\n",
       "    .dataframe tbody tr th {\n",
       "        vertical-align: top;\n",
       "    }\n",
       "\n",
       "    .dataframe thead th {\n",
       "        text-align: right;\n",
       "    }\n",
       "</style>\n",
       "<table border=\"1\" class=\"dataframe\">\n",
       "  <thead>\n",
       "    <tr style=\"text-align: right;\">\n",
       "      <th></th>\n",
       "      <th>Booking_ID</th>\n",
       "      <th>no_of_adults</th>\n",
       "      <th>no_of_children</th>\n",
       "      <th>no_of_weekend_nights</th>\n",
       "      <th>no_of_week_nights</th>\n",
       "      <th>type_of_meal_plan</th>\n",
       "      <th>required_car_parking_space</th>\n",
       "      <th>room_type_reserved</th>\n",
       "      <th>lead_time</th>\n",
       "      <th>arrival_year</th>\n",
       "      <th>arrival_month</th>\n",
       "      <th>arrival_date</th>\n",
       "      <th>market_segment_type</th>\n",
       "      <th>repeated_guest</th>\n",
       "      <th>no_of_previous_cancellations</th>\n",
       "      <th>no_of_previous_bookings_not_canceled</th>\n",
       "      <th>avg_price_per_room</th>\n",
       "      <th>no_of_special_requests</th>\n",
       "      <th>booking_status</th>\n",
       "    </tr>\n",
       "  </thead>\n",
       "  <tbody>\n",
       "    <tr>\n",
       "      <th>0</th>\n",
       "      <td>INN00001</td>\n",
       "      <td>2</td>\n",
       "      <td>0</td>\n",
       "      <td>1</td>\n",
       "      <td>2</td>\n",
       "      <td>Meal Plan 1</td>\n",
       "      <td>0</td>\n",
       "      <td>Room_Type 1</td>\n",
       "      <td>224</td>\n",
       "      <td>2017</td>\n",
       "      <td>10</td>\n",
       "      <td>2</td>\n",
       "      <td>Offline</td>\n",
       "      <td>0</td>\n",
       "      <td>0</td>\n",
       "      <td>0</td>\n",
       "      <td>65.00</td>\n",
       "      <td>0</td>\n",
       "      <td>Not_Canceled</td>\n",
       "    </tr>\n",
       "    <tr>\n",
       "      <th>1</th>\n",
       "      <td>INN00002</td>\n",
       "      <td>2</td>\n",
       "      <td>0</td>\n",
       "      <td>2</td>\n",
       "      <td>3</td>\n",
       "      <td>Not Selected</td>\n",
       "      <td>0</td>\n",
       "      <td>Room_Type 1</td>\n",
       "      <td>5</td>\n",
       "      <td>2018</td>\n",
       "      <td>11</td>\n",
       "      <td>6</td>\n",
       "      <td>Online</td>\n",
       "      <td>0</td>\n",
       "      <td>0</td>\n",
       "      <td>0</td>\n",
       "      <td>106.68</td>\n",
       "      <td>1</td>\n",
       "      <td>Not_Canceled</td>\n",
       "    </tr>\n",
       "    <tr>\n",
       "      <th>2</th>\n",
       "      <td>INN00003</td>\n",
       "      <td>1</td>\n",
       "      <td>0</td>\n",
       "      <td>2</td>\n",
       "      <td>1</td>\n",
       "      <td>Meal Plan 1</td>\n",
       "      <td>0</td>\n",
       "      <td>Room_Type 1</td>\n",
       "      <td>1</td>\n",
       "      <td>2018</td>\n",
       "      <td>2</td>\n",
       "      <td>28</td>\n",
       "      <td>Online</td>\n",
       "      <td>0</td>\n",
       "      <td>0</td>\n",
       "      <td>0</td>\n",
       "      <td>60.00</td>\n",
       "      <td>0</td>\n",
       "      <td>Canceled</td>\n",
       "    </tr>\n",
       "    <tr>\n",
       "      <th>3</th>\n",
       "      <td>INN00004</td>\n",
       "      <td>2</td>\n",
       "      <td>0</td>\n",
       "      <td>0</td>\n",
       "      <td>2</td>\n",
       "      <td>Meal Plan 1</td>\n",
       "      <td>0</td>\n",
       "      <td>Room_Type 1</td>\n",
       "      <td>211</td>\n",
       "      <td>2018</td>\n",
       "      <td>5</td>\n",
       "      <td>20</td>\n",
       "      <td>Online</td>\n",
       "      <td>0</td>\n",
       "      <td>0</td>\n",
       "      <td>0</td>\n",
       "      <td>100.00</td>\n",
       "      <td>0</td>\n",
       "      <td>Canceled</td>\n",
       "    </tr>\n",
       "    <tr>\n",
       "      <th>4</th>\n",
       "      <td>INN00005</td>\n",
       "      <td>2</td>\n",
       "      <td>0</td>\n",
       "      <td>1</td>\n",
       "      <td>1</td>\n",
       "      <td>Not Selected</td>\n",
       "      <td>0</td>\n",
       "      <td>Room_Type 1</td>\n",
       "      <td>48</td>\n",
       "      <td>2018</td>\n",
       "      <td>4</td>\n",
       "      <td>11</td>\n",
       "      <td>Online</td>\n",
       "      <td>0</td>\n",
       "      <td>0</td>\n",
       "      <td>0</td>\n",
       "      <td>94.50</td>\n",
       "      <td>0</td>\n",
       "      <td>Canceled</td>\n",
       "    </tr>\n",
       "  </tbody>\n",
       "</table>\n",
       "</div>"
      ],
      "text/plain": [
       "  Booking_ID  no_of_adults  no_of_children  no_of_weekend_nights  \\\n",
       "0   INN00001             2               0                     1   \n",
       "1   INN00002             2               0                     2   \n",
       "2   INN00003             1               0                     2   \n",
       "3   INN00004             2               0                     0   \n",
       "4   INN00005             2               0                     1   \n",
       "\n",
       "   no_of_week_nights type_of_meal_plan  required_car_parking_space  \\\n",
       "0                  2       Meal Plan 1                           0   \n",
       "1                  3      Not Selected                           0   \n",
       "2                  1       Meal Plan 1                           0   \n",
       "3                  2       Meal Plan 1                           0   \n",
       "4                  1      Not Selected                           0   \n",
       "\n",
       "  room_type_reserved  lead_time  arrival_year  arrival_month  arrival_date  \\\n",
       "0        Room_Type 1        224          2017             10             2   \n",
       "1        Room_Type 1          5          2018             11             6   \n",
       "2        Room_Type 1          1          2018              2            28   \n",
       "3        Room_Type 1        211          2018              5            20   \n",
       "4        Room_Type 1         48          2018              4            11   \n",
       "\n",
       "  market_segment_type  repeated_guest  no_of_previous_cancellations  \\\n",
       "0             Offline               0                             0   \n",
       "1              Online               0                             0   \n",
       "2              Online               0                             0   \n",
       "3              Online               0                             0   \n",
       "4              Online               0                             0   \n",
       "\n",
       "   no_of_previous_bookings_not_canceled  avg_price_per_room  \\\n",
       "0                                     0               65.00   \n",
       "1                                     0              106.68   \n",
       "2                                     0               60.00   \n",
       "3                                     0              100.00   \n",
       "4                                     0               94.50   \n",
       "\n",
       "   no_of_special_requests booking_status  \n",
       "0                       0   Not_Canceled  \n",
       "1                       1   Not_Canceled  \n",
       "2                       0       Canceled  \n",
       "3                       0       Canceled  \n",
       "4                       0       Canceled  "
      ]
     },
     "execution_count": 3,
     "metadata": {},
     "output_type": "execute_result"
    }
   ],
   "source": [
    "df = pd.read_csv(FILE_PATH)\n",
    "df.head()"
   ]
  },
  {
   "cell_type": "code",
   "execution_count": 4,
   "metadata": {},
   "outputs": [
    {
     "data": {
      "text/plain": [
       "(36275, 19)"
      ]
     },
     "execution_count": 4,
     "metadata": {},
     "output_type": "execute_result"
    }
   ],
   "source": [
    "df.shape"
   ]
  },
  {
   "cell_type": "code",
   "execution_count": 5,
   "metadata": {},
   "outputs": [
    {
     "name": "stdout",
     "output_type": "stream",
     "text": [
      "<class 'pandas.core.frame.DataFrame'>\n",
      "RangeIndex: 36275 entries, 0 to 36274\n",
      "Data columns (total 19 columns):\n",
      " #   Column                                Non-Null Count  Dtype  \n",
      "---  ------                                --------------  -----  \n",
      " 0   Booking_ID                            36275 non-null  object \n",
      " 1   no_of_adults                          36275 non-null  int64  \n",
      " 2   no_of_children                        36275 non-null  int64  \n",
      " 3   no_of_weekend_nights                  36275 non-null  int64  \n",
      " 4   no_of_week_nights                     36275 non-null  int64  \n",
      " 5   type_of_meal_plan                     36275 non-null  object \n",
      " 6   required_car_parking_space            36275 non-null  int64  \n",
      " 7   room_type_reserved                    36275 non-null  object \n",
      " 8   lead_time                             36275 non-null  int64  \n",
      " 9   arrival_year                          36275 non-null  int64  \n",
      " 10  arrival_month                         36275 non-null  int64  \n",
      " 11  arrival_date                          36275 non-null  int64  \n",
      " 12  market_segment_type                   36275 non-null  object \n",
      " 13  repeated_guest                        36275 non-null  int64  \n",
      " 14  no_of_previous_cancellations          36275 non-null  int64  \n",
      " 15  no_of_previous_bookings_not_canceled  36275 non-null  int64  \n",
      " 16  avg_price_per_room                    36275 non-null  float64\n",
      " 17  no_of_special_requests                36275 non-null  int64  \n",
      " 18  booking_status                        36275 non-null  object \n",
      "dtypes: float64(1), int64(13), object(5)\n",
      "memory usage: 5.3+ MB\n"
     ]
    }
   ],
   "source": [
    "df.info()"
   ]
  },
  {
   "cell_type": "code",
   "execution_count": 6,
   "metadata": {},
   "outputs": [],
   "source": [
    "numerical = [\n",
    "    'no_of_adults',\n",
    "    'no_of_children',\n",
    "    'no_of_weekend_nights',\n",
    "    'no_of_week_nights',\n",
    "    'lead_time',\n",
    "    'no_of_previous_cancellations',\n",
    "    'no_of_previous_bookings_not_canceled',\n",
    "    'avg_price_per_room',\n",
    "    'no_of_special_requests'\n",
    "]"
   ]
  },
  {
   "cell_type": "code",
   "execution_count": 7,
   "metadata": {},
   "outputs": [],
   "source": [
    "categorical = [\n",
    "    'type_of_meal_plan',\n",
    "    'required_car_parking_space',\n",
    "    'room_type_reserved',\n",
    "    'arrival_month',\n",
    "    'arrival_date',\n",
    "    'market_segment_type',\n",
    "    'repeated_guest'\n",
    "]"
   ]
  },
  {
   "cell_type": "markdown",
   "metadata": {},
   "source": [
    "## Data Preparation"
   ]
  },
  {
   "cell_type": "code",
   "execution_count": 8,
   "metadata": {},
   "outputs": [
    {
     "data": {
      "text/html": [
       "<div>\n",
       "<style scoped>\n",
       "    .dataframe tbody tr th:only-of-type {\n",
       "        vertical-align: middle;\n",
       "    }\n",
       "\n",
       "    .dataframe tbody tr th {\n",
       "        vertical-align: top;\n",
       "    }\n",
       "\n",
       "    .dataframe thead th {\n",
       "        text-align: right;\n",
       "    }\n",
       "</style>\n",
       "<table border=\"1\" class=\"dataframe\">\n",
       "  <thead>\n",
       "    <tr style=\"text-align: right;\">\n",
       "      <th></th>\n",
       "      <th>no_of_adults</th>\n",
       "      <th>no_of_children</th>\n",
       "      <th>no_of_weekend_nights</th>\n",
       "      <th>no_of_week_nights</th>\n",
       "      <th>type_of_meal_plan</th>\n",
       "      <th>required_car_parking_space</th>\n",
       "      <th>room_type_reserved</th>\n",
       "      <th>lead_time</th>\n",
       "      <th>arrival_month</th>\n",
       "      <th>arrival_date</th>\n",
       "      <th>market_segment_type</th>\n",
       "      <th>repeated_guest</th>\n",
       "      <th>no_of_previous_cancellations</th>\n",
       "      <th>no_of_previous_bookings_not_canceled</th>\n",
       "      <th>avg_price_per_room</th>\n",
       "      <th>no_of_special_requests</th>\n",
       "      <th>booking_status</th>\n",
       "    </tr>\n",
       "  </thead>\n",
       "  <tbody>\n",
       "    <tr>\n",
       "      <th>0</th>\n",
       "      <td>2</td>\n",
       "      <td>0</td>\n",
       "      <td>1</td>\n",
       "      <td>2</td>\n",
       "      <td>meal_plan_1</td>\n",
       "      <td>0</td>\n",
       "      <td>room_type_1</td>\n",
       "      <td>224</td>\n",
       "      <td>10</td>\n",
       "      <td>2</td>\n",
       "      <td>offline</td>\n",
       "      <td>0</td>\n",
       "      <td>0</td>\n",
       "      <td>0</td>\n",
       "      <td>65.00</td>\n",
       "      <td>0</td>\n",
       "      <td>not_canceled</td>\n",
       "    </tr>\n",
       "    <tr>\n",
       "      <th>1</th>\n",
       "      <td>2</td>\n",
       "      <td>0</td>\n",
       "      <td>2</td>\n",
       "      <td>3</td>\n",
       "      <td>not_selected</td>\n",
       "      <td>0</td>\n",
       "      <td>room_type_1</td>\n",
       "      <td>5</td>\n",
       "      <td>11</td>\n",
       "      <td>6</td>\n",
       "      <td>online</td>\n",
       "      <td>0</td>\n",
       "      <td>0</td>\n",
       "      <td>0</td>\n",
       "      <td>106.68</td>\n",
       "      <td>1</td>\n",
       "      <td>not_canceled</td>\n",
       "    </tr>\n",
       "    <tr>\n",
       "      <th>2</th>\n",
       "      <td>1</td>\n",
       "      <td>0</td>\n",
       "      <td>2</td>\n",
       "      <td>1</td>\n",
       "      <td>meal_plan_1</td>\n",
       "      <td>0</td>\n",
       "      <td>room_type_1</td>\n",
       "      <td>1</td>\n",
       "      <td>2</td>\n",
       "      <td>28</td>\n",
       "      <td>online</td>\n",
       "      <td>0</td>\n",
       "      <td>0</td>\n",
       "      <td>0</td>\n",
       "      <td>60.00</td>\n",
       "      <td>0</td>\n",
       "      <td>canceled</td>\n",
       "    </tr>\n",
       "    <tr>\n",
       "      <th>3</th>\n",
       "      <td>2</td>\n",
       "      <td>0</td>\n",
       "      <td>0</td>\n",
       "      <td>2</td>\n",
       "      <td>meal_plan_1</td>\n",
       "      <td>0</td>\n",
       "      <td>room_type_1</td>\n",
       "      <td>211</td>\n",
       "      <td>5</td>\n",
       "      <td>20</td>\n",
       "      <td>online</td>\n",
       "      <td>0</td>\n",
       "      <td>0</td>\n",
       "      <td>0</td>\n",
       "      <td>100.00</td>\n",
       "      <td>0</td>\n",
       "      <td>canceled</td>\n",
       "    </tr>\n",
       "    <tr>\n",
       "      <th>4</th>\n",
       "      <td>2</td>\n",
       "      <td>0</td>\n",
       "      <td>1</td>\n",
       "      <td>1</td>\n",
       "      <td>not_selected</td>\n",
       "      <td>0</td>\n",
       "      <td>room_type_1</td>\n",
       "      <td>48</td>\n",
       "      <td>4</td>\n",
       "      <td>11</td>\n",
       "      <td>online</td>\n",
       "      <td>0</td>\n",
       "      <td>0</td>\n",
       "      <td>0</td>\n",
       "      <td>94.50</td>\n",
       "      <td>0</td>\n",
       "      <td>canceled</td>\n",
       "    </tr>\n",
       "  </tbody>\n",
       "</table>\n",
       "</div>"
      ],
      "text/plain": [
       "   no_of_adults  no_of_children  no_of_weekend_nights  no_of_week_nights  \\\n",
       "0             2               0                     1                  2   \n",
       "1             2               0                     2                  3   \n",
       "2             1               0                     2                  1   \n",
       "3             2               0                     0                  2   \n",
       "4             2               0                     1                  1   \n",
       "\n",
       "  type_of_meal_plan  required_car_parking_space room_type_reserved  lead_time  \\\n",
       "0       meal_plan_1                           0        room_type_1        224   \n",
       "1      not_selected                           0        room_type_1          5   \n",
       "2       meal_plan_1                           0        room_type_1          1   \n",
       "3       meal_plan_1                           0        room_type_1        211   \n",
       "4      not_selected                           0        room_type_1         48   \n",
       "\n",
       "   arrival_month  arrival_date market_segment_type  repeated_guest  \\\n",
       "0             10             2             offline               0   \n",
       "1             11             6              online               0   \n",
       "2              2            28              online               0   \n",
       "3              5            20              online               0   \n",
       "4              4            11              online               0   \n",
       "\n",
       "   no_of_previous_cancellations  no_of_previous_bookings_not_canceled  \\\n",
       "0                             0                                     0   \n",
       "1                             0                                     0   \n",
       "2                             0                                     0   \n",
       "3                             0                                     0   \n",
       "4                             0                                     0   \n",
       "\n",
       "   avg_price_per_room  no_of_special_requests booking_status  \n",
       "0               65.00                       0   not_canceled  \n",
       "1              106.68                       1   not_canceled  \n",
       "2               60.00                       0       canceled  \n",
       "3              100.00                       0       canceled  \n",
       "4               94.50                       0       canceled  "
      ]
     },
     "execution_count": 8,
     "metadata": {},
     "output_type": "execute_result"
    }
   ],
   "source": [
    "# Dropping unnecessary columns, standardizing the dataset, and handling missing values if present\n",
    "df = clean_and_standardize_data(df, numerical_columns=numerical, categorical_columns=categorical,\n",
    "                                columns_to_drop=['Booking_ID', 'arrival_year'])\n",
    "df.head()"
   ]
  },
  {
   "cell_type": "code",
   "execution_count": 9,
   "metadata": {},
   "outputs": [
    {
     "data": {
      "text/plain": [
       "booking_status\n",
       "not_canceled    24390\n",
       "canceled        11885\n",
       "Name: count, dtype: int64"
      ]
     },
     "execution_count": 9,
     "metadata": {},
     "output_type": "execute_result"
    }
   ],
   "source": [
    "df['booking_status'].value_counts()"
   ]
  },
  {
   "cell_type": "code",
   "execution_count": 10,
   "metadata": {},
   "outputs": [
    {
     "data": {
      "text/html": [
       "<div>\n",
       "<style scoped>\n",
       "    .dataframe tbody tr th:only-of-type {\n",
       "        vertical-align: middle;\n",
       "    }\n",
       "\n",
       "    .dataframe tbody tr th {\n",
       "        vertical-align: top;\n",
       "    }\n",
       "\n",
       "    .dataframe thead th {\n",
       "        text-align: right;\n",
       "    }\n",
       "</style>\n",
       "<table border=\"1\" class=\"dataframe\">\n",
       "  <thead>\n",
       "    <tr style=\"text-align: right;\">\n",
       "      <th></th>\n",
       "      <th>no_of_adults</th>\n",
       "      <th>no_of_children</th>\n",
       "      <th>no_of_weekend_nights</th>\n",
       "      <th>no_of_week_nights</th>\n",
       "      <th>type_of_meal_plan</th>\n",
       "      <th>required_car_parking_space</th>\n",
       "      <th>room_type_reserved</th>\n",
       "      <th>lead_time</th>\n",
       "      <th>arrival_month</th>\n",
       "      <th>arrival_date</th>\n",
       "      <th>market_segment_type</th>\n",
       "      <th>repeated_guest</th>\n",
       "      <th>no_of_previous_cancellations</th>\n",
       "      <th>no_of_previous_bookings_not_canceled</th>\n",
       "      <th>avg_price_per_room</th>\n",
       "      <th>no_of_special_requests</th>\n",
       "      <th>booking_status</th>\n",
       "    </tr>\n",
       "  </thead>\n",
       "  <tbody>\n",
       "    <tr>\n",
       "      <th>0</th>\n",
       "      <td>2</td>\n",
       "      <td>0</td>\n",
       "      <td>1</td>\n",
       "      <td>2</td>\n",
       "      <td>meal_plan_1</td>\n",
       "      <td>0</td>\n",
       "      <td>room_type_1</td>\n",
       "      <td>224</td>\n",
       "      <td>10</td>\n",
       "      <td>2</td>\n",
       "      <td>offline</td>\n",
       "      <td>0</td>\n",
       "      <td>0</td>\n",
       "      <td>0</td>\n",
       "      <td>65.00</td>\n",
       "      <td>0</td>\n",
       "      <td>0</td>\n",
       "    </tr>\n",
       "    <tr>\n",
       "      <th>1</th>\n",
       "      <td>2</td>\n",
       "      <td>0</td>\n",
       "      <td>2</td>\n",
       "      <td>3</td>\n",
       "      <td>not_selected</td>\n",
       "      <td>0</td>\n",
       "      <td>room_type_1</td>\n",
       "      <td>5</td>\n",
       "      <td>11</td>\n",
       "      <td>6</td>\n",
       "      <td>online</td>\n",
       "      <td>0</td>\n",
       "      <td>0</td>\n",
       "      <td>0</td>\n",
       "      <td>106.68</td>\n",
       "      <td>1</td>\n",
       "      <td>0</td>\n",
       "    </tr>\n",
       "    <tr>\n",
       "      <th>2</th>\n",
       "      <td>1</td>\n",
       "      <td>0</td>\n",
       "      <td>2</td>\n",
       "      <td>1</td>\n",
       "      <td>meal_plan_1</td>\n",
       "      <td>0</td>\n",
       "      <td>room_type_1</td>\n",
       "      <td>1</td>\n",
       "      <td>2</td>\n",
       "      <td>28</td>\n",
       "      <td>online</td>\n",
       "      <td>0</td>\n",
       "      <td>0</td>\n",
       "      <td>0</td>\n",
       "      <td>60.00</td>\n",
       "      <td>0</td>\n",
       "      <td>1</td>\n",
       "    </tr>\n",
       "    <tr>\n",
       "      <th>3</th>\n",
       "      <td>2</td>\n",
       "      <td>0</td>\n",
       "      <td>0</td>\n",
       "      <td>2</td>\n",
       "      <td>meal_plan_1</td>\n",
       "      <td>0</td>\n",
       "      <td>room_type_1</td>\n",
       "      <td>211</td>\n",
       "      <td>5</td>\n",
       "      <td>20</td>\n",
       "      <td>online</td>\n",
       "      <td>0</td>\n",
       "      <td>0</td>\n",
       "      <td>0</td>\n",
       "      <td>100.00</td>\n",
       "      <td>0</td>\n",
       "      <td>1</td>\n",
       "    </tr>\n",
       "    <tr>\n",
       "      <th>4</th>\n",
       "      <td>2</td>\n",
       "      <td>0</td>\n",
       "      <td>1</td>\n",
       "      <td>1</td>\n",
       "      <td>not_selected</td>\n",
       "      <td>0</td>\n",
       "      <td>room_type_1</td>\n",
       "      <td>48</td>\n",
       "      <td>4</td>\n",
       "      <td>11</td>\n",
       "      <td>online</td>\n",
       "      <td>0</td>\n",
       "      <td>0</td>\n",
       "      <td>0</td>\n",
       "      <td>94.50</td>\n",
       "      <td>0</td>\n",
       "      <td>1</td>\n",
       "    </tr>\n",
       "  </tbody>\n",
       "</table>\n",
       "</div>"
      ],
      "text/plain": [
       "   no_of_adults  no_of_children  no_of_weekend_nights  no_of_week_nights  \\\n",
       "0             2               0                     1                  2   \n",
       "1             2               0                     2                  3   \n",
       "2             1               0                     2                  1   \n",
       "3             2               0                     0                  2   \n",
       "4             2               0                     1                  1   \n",
       "\n",
       "  type_of_meal_plan  required_car_parking_space room_type_reserved  lead_time  \\\n",
       "0       meal_plan_1                           0        room_type_1        224   \n",
       "1      not_selected                           0        room_type_1          5   \n",
       "2       meal_plan_1                           0        room_type_1          1   \n",
       "3       meal_plan_1                           0        room_type_1        211   \n",
       "4      not_selected                           0        room_type_1         48   \n",
       "\n",
       "   arrival_month  arrival_date market_segment_type  repeated_guest  \\\n",
       "0             10             2             offline               0   \n",
       "1             11             6              online               0   \n",
       "2              2            28              online               0   \n",
       "3              5            20              online               0   \n",
       "4              4            11              online               0   \n",
       "\n",
       "   no_of_previous_cancellations  no_of_previous_bookings_not_canceled  \\\n",
       "0                             0                                     0   \n",
       "1                             0                                     0   \n",
       "2                             0                                     0   \n",
       "3                             0                                     0   \n",
       "4                             0                                     0   \n",
       "\n",
       "   avg_price_per_room  no_of_special_requests  booking_status  \n",
       "0               65.00                       0               0  \n",
       "1              106.68                       1               0  \n",
       "2               60.00                       0               1  \n",
       "3              100.00                       0               1  \n",
       "4               94.50                       0               1  "
      ]
     },
     "execution_count": 10,
     "metadata": {},
     "output_type": "execute_result"
    }
   ],
   "source": [
    "df = convert_target_to_binary(df, target=TARGET, target_value=TARGET_VALUE)\n",
    "df.head()"
   ]
  },
  {
   "cell_type": "code",
   "execution_count": 11,
   "metadata": {},
   "outputs": [],
   "source": [
    "# Splitting dataset into train/validation/test datasets with 60%/20%/20% distribution\n",
    "df_full_train, df_test = train_test_split(df, test_size=0.2, random_state=SEED)\n",
    "df_train, df_val = train_test_split(df_full_train, test_size=0.25, random_state=SEED)"
   ]
  },
  {
   "cell_type": "code",
   "execution_count": 12,
   "metadata": {},
   "outputs": [],
   "source": [
    "assert len(df) == len(df_train) + len(df_val) + len(df_test)"
   ]
  },
  {
   "cell_type": "code",
   "execution_count": 13,
   "metadata": {},
   "outputs": [
    {
     "data": {
      "text/plain": [
       "(21765, 7255, 7255)"
      ]
     },
     "execution_count": 13,
     "metadata": {},
     "output_type": "execute_result"
    }
   ],
   "source": [
    "len(df_train), len(df_val), len(df_test)"
   ]
  },
  {
   "cell_type": "markdown",
   "metadata": {},
   "source": [
    "## EDA"
   ]
  },
  {
   "cell_type": "code",
   "execution_count": 15,
   "metadata": {},
   "outputs": [
    {
     "data": {
      "text/html": [
       "<div>\n",
       "<style scoped>\n",
       "    .dataframe tbody tr th:only-of-type {\n",
       "        vertical-align: middle;\n",
       "    }\n",
       "\n",
       "    .dataframe tbody tr th {\n",
       "        vertical-align: top;\n",
       "    }\n",
       "\n",
       "    .dataframe thead th {\n",
       "        text-align: right;\n",
       "    }\n",
       "</style>\n",
       "<table border=\"1\" class=\"dataframe\">\n",
       "  <thead>\n",
       "    <tr style=\"text-align: right;\">\n",
       "      <th></th>\n",
       "      <th>no_of_adults</th>\n",
       "      <th>no_of_children</th>\n",
       "      <th>no_of_weekend_nights</th>\n",
       "      <th>no_of_week_nights</th>\n",
       "      <th>type_of_meal_plan</th>\n",
       "      <th>required_car_parking_space</th>\n",
       "      <th>room_type_reserved</th>\n",
       "      <th>lead_time</th>\n",
       "      <th>arrival_month</th>\n",
       "      <th>arrival_date</th>\n",
       "      <th>market_segment_type</th>\n",
       "      <th>repeated_guest</th>\n",
       "      <th>no_of_previous_cancellations</th>\n",
       "      <th>no_of_previous_bookings_not_canceled</th>\n",
       "      <th>avg_price_per_room</th>\n",
       "      <th>no_of_special_requests</th>\n",
       "      <th>booking_status</th>\n",
       "    </tr>\n",
       "  </thead>\n",
       "  <tbody>\n",
       "    <tr>\n",
       "      <th>0</th>\n",
       "      <td>1</td>\n",
       "      <td>0</td>\n",
       "      <td>2</td>\n",
       "      <td>3</td>\n",
       "      <td>meal_plan_1</td>\n",
       "      <td>0</td>\n",
       "      <td>room_type_1</td>\n",
       "      <td>115</td>\n",
       "      <td>2</td>\n",
       "      <td>27</td>\n",
       "      <td>offline</td>\n",
       "      <td>0</td>\n",
       "      <td>0</td>\n",
       "      <td>0</td>\n",
       "      <td>76.00</td>\n",
       "      <td>0</td>\n",
       "      <td>0</td>\n",
       "    </tr>\n",
       "    <tr>\n",
       "      <th>1</th>\n",
       "      <td>2</td>\n",
       "      <td>0</td>\n",
       "      <td>2</td>\n",
       "      <td>1</td>\n",
       "      <td>meal_plan_2</td>\n",
       "      <td>0</td>\n",
       "      <td>room_type_1</td>\n",
       "      <td>131</td>\n",
       "      <td>8</td>\n",
       "      <td>15</td>\n",
       "      <td>offline</td>\n",
       "      <td>0</td>\n",
       "      <td>0</td>\n",
       "      <td>0</td>\n",
       "      <td>94.50</td>\n",
       "      <td>0</td>\n",
       "      <td>0</td>\n",
       "    </tr>\n",
       "    <tr>\n",
       "      <th>2</th>\n",
       "      <td>2</td>\n",
       "      <td>0</td>\n",
       "      <td>1</td>\n",
       "      <td>0</td>\n",
       "      <td>meal_plan_1</td>\n",
       "      <td>0</td>\n",
       "      <td>room_type_4</td>\n",
       "      <td>16</td>\n",
       "      <td>9</td>\n",
       "      <td>26</td>\n",
       "      <td>online</td>\n",
       "      <td>0</td>\n",
       "      <td>0</td>\n",
       "      <td>0</td>\n",
       "      <td>164.00</td>\n",
       "      <td>0</td>\n",
       "      <td>1</td>\n",
       "    </tr>\n",
       "    <tr>\n",
       "      <th>3</th>\n",
       "      <td>2</td>\n",
       "      <td>0</td>\n",
       "      <td>2</td>\n",
       "      <td>2</td>\n",
       "      <td>meal_plan_2</td>\n",
       "      <td>0</td>\n",
       "      <td>room_type_1</td>\n",
       "      <td>169</td>\n",
       "      <td>4</td>\n",
       "      <td>22</td>\n",
       "      <td>offline</td>\n",
       "      <td>0</td>\n",
       "      <td>0</td>\n",
       "      <td>0</td>\n",
       "      <td>106.00</td>\n",
       "      <td>0</td>\n",
       "      <td>1</td>\n",
       "    </tr>\n",
       "    <tr>\n",
       "      <th>4</th>\n",
       "      <td>1</td>\n",
       "      <td>0</td>\n",
       "      <td>1</td>\n",
       "      <td>0</td>\n",
       "      <td>meal_plan_1</td>\n",
       "      <td>1</td>\n",
       "      <td>room_type_1</td>\n",
       "      <td>5</td>\n",
       "      <td>12</td>\n",
       "      <td>5</td>\n",
       "      <td>complementary</td>\n",
       "      <td>1</td>\n",
       "      <td>2</td>\n",
       "      <td>8</td>\n",
       "      <td>0.00</td>\n",
       "      <td>1</td>\n",
       "      <td>0</td>\n",
       "    </tr>\n",
       "    <tr>\n",
       "      <th>...</th>\n",
       "      <td>...</td>\n",
       "      <td>...</td>\n",
       "      <td>...</td>\n",
       "      <td>...</td>\n",
       "      <td>...</td>\n",
       "      <td>...</td>\n",
       "      <td>...</td>\n",
       "      <td>...</td>\n",
       "      <td>...</td>\n",
       "      <td>...</td>\n",
       "      <td>...</td>\n",
       "      <td>...</td>\n",
       "      <td>...</td>\n",
       "      <td>...</td>\n",
       "      <td>...</td>\n",
       "      <td>...</td>\n",
       "      <td>...</td>\n",
       "    </tr>\n",
       "    <tr>\n",
       "      <th>29015</th>\n",
       "      <td>2</td>\n",
       "      <td>0</td>\n",
       "      <td>2</td>\n",
       "      <td>1</td>\n",
       "      <td>meal_plan_1</td>\n",
       "      <td>0</td>\n",
       "      <td>room_type_1</td>\n",
       "      <td>66</td>\n",
       "      <td>11</td>\n",
       "      <td>12</td>\n",
       "      <td>online</td>\n",
       "      <td>0</td>\n",
       "      <td>0</td>\n",
       "      <td>0</td>\n",
       "      <td>105.33</td>\n",
       "      <td>1</td>\n",
       "      <td>1</td>\n",
       "    </tr>\n",
       "    <tr>\n",
       "      <th>29016</th>\n",
       "      <td>2</td>\n",
       "      <td>0</td>\n",
       "      <td>0</td>\n",
       "      <td>2</td>\n",
       "      <td>meal_plan_1</td>\n",
       "      <td>0</td>\n",
       "      <td>room_type_1</td>\n",
       "      <td>70</td>\n",
       "      <td>4</td>\n",
       "      <td>22</td>\n",
       "      <td>online</td>\n",
       "      <td>0</td>\n",
       "      <td>0</td>\n",
       "      <td>0</td>\n",
       "      <td>105.30</td>\n",
       "      <td>1</td>\n",
       "      <td>1</td>\n",
       "    </tr>\n",
       "    <tr>\n",
       "      <th>29017</th>\n",
       "      <td>1</td>\n",
       "      <td>0</td>\n",
       "      <td>1</td>\n",
       "      <td>2</td>\n",
       "      <td>meal_plan_1</td>\n",
       "      <td>0</td>\n",
       "      <td>room_type_1</td>\n",
       "      <td>24</td>\n",
       "      <td>6</td>\n",
       "      <td>6</td>\n",
       "      <td>online</td>\n",
       "      <td>0</td>\n",
       "      <td>0</td>\n",
       "      <td>0</td>\n",
       "      <td>120.00</td>\n",
       "      <td>0</td>\n",
       "      <td>1</td>\n",
       "    </tr>\n",
       "    <tr>\n",
       "      <th>29018</th>\n",
       "      <td>2</td>\n",
       "      <td>2</td>\n",
       "      <td>1</td>\n",
       "      <td>1</td>\n",
       "      <td>meal_plan_1</td>\n",
       "      <td>0</td>\n",
       "      <td>room_type_6</td>\n",
       "      <td>3</td>\n",
       "      <td>3</td>\n",
       "      <td>21</td>\n",
       "      <td>online</td>\n",
       "      <td>0</td>\n",
       "      <td>0</td>\n",
       "      <td>0</td>\n",
       "      <td>181.00</td>\n",
       "      <td>0</td>\n",
       "      <td>0</td>\n",
       "    </tr>\n",
       "    <tr>\n",
       "      <th>29019</th>\n",
       "      <td>2</td>\n",
       "      <td>0</td>\n",
       "      <td>0</td>\n",
       "      <td>3</td>\n",
       "      <td>meal_plan_1</td>\n",
       "      <td>0</td>\n",
       "      <td>room_type_1</td>\n",
       "      <td>222</td>\n",
       "      <td>8</td>\n",
       "      <td>31</td>\n",
       "      <td>online</td>\n",
       "      <td>0</td>\n",
       "      <td>0</td>\n",
       "      <td>0</td>\n",
       "      <td>96.30</td>\n",
       "      <td>1</td>\n",
       "      <td>1</td>\n",
       "    </tr>\n",
       "  </tbody>\n",
       "</table>\n",
       "<p>29020 rows × 17 columns</p>\n",
       "</div>"
      ],
      "text/plain": [
       "       no_of_adults  no_of_children  no_of_weekend_nights  no_of_week_nights  \\\n",
       "0                 1               0                     2                  3   \n",
       "1                 2               0                     2                  1   \n",
       "2                 2               0                     1                  0   \n",
       "3                 2               0                     2                  2   \n",
       "4                 1               0                     1                  0   \n",
       "...             ...             ...                   ...                ...   \n",
       "29015             2               0                     2                  1   \n",
       "29016             2               0                     0                  2   \n",
       "29017             1               0                     1                  2   \n",
       "29018             2               2                     1                  1   \n",
       "29019             2               0                     0                  3   \n",
       "\n",
       "      type_of_meal_plan  required_car_parking_space room_type_reserved  \\\n",
       "0           meal_plan_1                           0        room_type_1   \n",
       "1           meal_plan_2                           0        room_type_1   \n",
       "2           meal_plan_1                           0        room_type_4   \n",
       "3           meal_plan_2                           0        room_type_1   \n",
       "4           meal_plan_1                           1        room_type_1   \n",
       "...                 ...                         ...                ...   \n",
       "29015       meal_plan_1                           0        room_type_1   \n",
       "29016       meal_plan_1                           0        room_type_1   \n",
       "29017       meal_plan_1                           0        room_type_1   \n",
       "29018       meal_plan_1                           0        room_type_6   \n",
       "29019       meal_plan_1                           0        room_type_1   \n",
       "\n",
       "       lead_time  arrival_month  arrival_date market_segment_type  \\\n",
       "0            115              2            27             offline   \n",
       "1            131              8            15             offline   \n",
       "2             16              9            26              online   \n",
       "3            169              4            22             offline   \n",
       "4              5             12             5       complementary   \n",
       "...          ...            ...           ...                 ...   \n",
       "29015         66             11            12              online   \n",
       "29016         70              4            22              online   \n",
       "29017         24              6             6              online   \n",
       "29018          3              3            21              online   \n",
       "29019        222              8            31              online   \n",
       "\n",
       "       repeated_guest  no_of_previous_cancellations  \\\n",
       "0                   0                             0   \n",
       "1                   0                             0   \n",
       "2                   0                             0   \n",
       "3                   0                             0   \n",
       "4                   1                             2   \n",
       "...               ...                           ...   \n",
       "29015               0                             0   \n",
       "29016               0                             0   \n",
       "29017               0                             0   \n",
       "29018               0                             0   \n",
       "29019               0                             0   \n",
       "\n",
       "       no_of_previous_bookings_not_canceled  avg_price_per_room  \\\n",
       "0                                         0               76.00   \n",
       "1                                         0               94.50   \n",
       "2                                         0              164.00   \n",
       "3                                         0              106.00   \n",
       "4                                         8                0.00   \n",
       "...                                     ...                 ...   \n",
       "29015                                     0              105.33   \n",
       "29016                                     0              105.30   \n",
       "29017                                     0              120.00   \n",
       "29018                                     0              181.00   \n",
       "29019                                     0               96.30   \n",
       "\n",
       "       no_of_special_requests  booking_status  \n",
       "0                           0               0  \n",
       "1                           0               0  \n",
       "2                           0               1  \n",
       "3                           0               1  \n",
       "4                           1               0  \n",
       "...                       ...             ...  \n",
       "29015                       1               1  \n",
       "29016                       1               1  \n",
       "29017                       0               1  \n",
       "29018                       0               0  \n",
       "29019                       1               1  \n",
       "\n",
       "[29020 rows x 17 columns]"
      ]
     },
     "execution_count": 15,
     "metadata": {},
     "output_type": "execute_result"
    }
   ],
   "source": [
    "df_full_train = reset_index(df_full_train)\n",
    "df_full_train"
   ]
  },
  {
   "cell_type": "code",
   "execution_count": 16,
   "metadata": {},
   "outputs": [
    {
     "data": {
      "text/plain": [
       "0.3286354238456237"
      ]
     },
     "execution_count": 16,
     "metadata": {},
     "output_type": "execute_result"
    }
   ],
   "source": [
    "df_full_train[TARGET].mean()"
   ]
  },
  {
   "cell_type": "markdown",
   "metadata": {},
   "source": [
    "### Feature Importance: Cancellation rate and Risk ratio"
   ]
  },
  {
   "cell_type": "code",
   "execution_count": 17,
   "metadata": {},
   "outputs": [
    {
     "data": {
      "text/plain": [
       "0.3286354238456237"
      ]
     },
     "execution_count": 17,
     "metadata": {},
     "output_type": "execute_result"
    }
   ],
   "source": [
    "global_cancellation_rate = df_full_train[TARGET].mean()\n",
    "global_cancellation_rate"
   ]
  },
  {
   "cell_type": "code",
   "execution_count": 18,
   "metadata": {},
   "outputs": [
    {
     "name": "stdout",
     "output_type": "stream",
     "text": [
      "type_of_meal_plan\n"
     ]
    },
    {
     "data": {
      "text/html": [
       "<div>\n",
       "<style scoped>\n",
       "    .dataframe tbody tr th:only-of-type {\n",
       "        vertical-align: middle;\n",
       "    }\n",
       "\n",
       "    .dataframe tbody tr th {\n",
       "        vertical-align: top;\n",
       "    }\n",
       "\n",
       "    .dataframe thead th {\n",
       "        text-align: right;\n",
       "    }\n",
       "</style>\n",
       "<table border=\"1\" class=\"dataframe\">\n",
       "  <thead>\n",
       "    <tr style=\"text-align: right;\">\n",
       "      <th></th>\n",
       "      <th>mean</th>\n",
       "      <th>count</th>\n",
       "      <th>diff</th>\n",
       "      <th>risk</th>\n",
       "    </tr>\n",
       "    <tr>\n",
       "      <th>type_of_meal_plan</th>\n",
       "      <th></th>\n",
       "      <th></th>\n",
       "      <th></th>\n",
       "      <th></th>\n",
       "    </tr>\n",
       "  </thead>\n",
       "  <tbody>\n",
       "    <tr>\n",
       "      <th>meal_plan_1</th>\n",
       "      <td>0.312264</td>\n",
       "      <td>22244</td>\n",
       "      <td>-0.016371</td>\n",
       "      <td>0.950184</td>\n",
       "    </tr>\n",
       "    <tr>\n",
       "      <th>meal_plan_2</th>\n",
       "      <td>0.459459</td>\n",
       "      <td>2664</td>\n",
       "      <td>0.130824</td>\n",
       "      <td>1.398083</td>\n",
       "    </tr>\n",
       "    <tr>\n",
       "      <th>meal_plan_3</th>\n",
       "      <td>0.200000</td>\n",
       "      <td>5</td>\n",
       "      <td>-0.128635</td>\n",
       "      <td>0.608577</td>\n",
       "    </tr>\n",
       "    <tr>\n",
       "      <th>not_selected</th>\n",
       "      <td>0.332603</td>\n",
       "      <td>4107</td>\n",
       "      <td>0.003967</td>\n",
       "      <td>1.012072</td>\n",
       "    </tr>\n",
       "  </tbody>\n",
       "</table>\n",
       "</div>"
      ],
      "text/plain": [
       "                       mean  count      diff      risk\n",
       "type_of_meal_plan                                     \n",
       "meal_plan_1        0.312264  22244 -0.016371  0.950184\n",
       "meal_plan_2        0.459459   2664  0.130824  1.398083\n",
       "meal_plan_3        0.200000      5 -0.128635  0.608577\n",
       "not_selected       0.332603   4107  0.003967  1.012072"
      ]
     },
     "metadata": {},
     "output_type": "display_data"
    },
    {
     "name": "stdout",
     "output_type": "stream",
     "text": [
      "\n",
      "\n",
      "\n",
      "required_car_parking_space\n"
     ]
    },
    {
     "data": {
      "text/html": [
       "<div>\n",
       "<style scoped>\n",
       "    .dataframe tbody tr th:only-of-type {\n",
       "        vertical-align: middle;\n",
       "    }\n",
       "\n",
       "    .dataframe tbody tr th {\n",
       "        vertical-align: top;\n",
       "    }\n",
       "\n",
       "    .dataframe thead th {\n",
       "        text-align: right;\n",
       "    }\n",
       "</style>\n",
       "<table border=\"1\" class=\"dataframe\">\n",
       "  <thead>\n",
       "    <tr style=\"text-align: right;\">\n",
       "      <th></th>\n",
       "      <th>mean</th>\n",
       "      <th>count</th>\n",
       "      <th>diff</th>\n",
       "      <th>risk</th>\n",
       "    </tr>\n",
       "    <tr>\n",
       "      <th>required_car_parking_space</th>\n",
       "      <th></th>\n",
       "      <th></th>\n",
       "      <th></th>\n",
       "      <th></th>\n",
       "    </tr>\n",
       "  </thead>\n",
       "  <tbody>\n",
       "    <tr>\n",
       "      <th>0</th>\n",
       "      <td>0.336060</td>\n",
       "      <td>28114</td>\n",
       "      <td>0.007425</td>\n",
       "      <td>1.022593</td>\n",
       "    </tr>\n",
       "    <tr>\n",
       "      <th>1</th>\n",
       "      <td>0.098234</td>\n",
       "      <td>906</td>\n",
       "      <td>-0.230401</td>\n",
       "      <td>0.298915</td>\n",
       "    </tr>\n",
       "  </tbody>\n",
       "</table>\n",
       "</div>"
      ],
      "text/plain": [
       "                                mean  count      diff      risk\n",
       "required_car_parking_space                                     \n",
       "0                           0.336060  28114  0.007425  1.022593\n",
       "1                           0.098234    906 -0.230401  0.298915"
      ]
     },
     "metadata": {},
     "output_type": "display_data"
    },
    {
     "name": "stdout",
     "output_type": "stream",
     "text": [
      "\n",
      "\n",
      "\n",
      "room_type_reserved\n"
     ]
    },
    {
     "data": {
      "text/html": [
       "<div>\n",
       "<style scoped>\n",
       "    .dataframe tbody tr th:only-of-type {\n",
       "        vertical-align: middle;\n",
       "    }\n",
       "\n",
       "    .dataframe tbody tr th {\n",
       "        vertical-align: top;\n",
       "    }\n",
       "\n",
       "    .dataframe thead th {\n",
       "        text-align: right;\n",
       "    }\n",
       "</style>\n",
       "<table border=\"1\" class=\"dataframe\">\n",
       "  <thead>\n",
       "    <tr style=\"text-align: right;\">\n",
       "      <th></th>\n",
       "      <th>mean</th>\n",
       "      <th>count</th>\n",
       "      <th>diff</th>\n",
       "      <th>risk</th>\n",
       "    </tr>\n",
       "    <tr>\n",
       "      <th>room_type_reserved</th>\n",
       "      <th></th>\n",
       "      <th></th>\n",
       "      <th></th>\n",
       "      <th></th>\n",
       "    </tr>\n",
       "  </thead>\n",
       "  <tbody>\n",
       "    <tr>\n",
       "      <th>room_type_1</th>\n",
       "      <td>0.323350</td>\n",
       "      <td>22505</td>\n",
       "      <td>-0.005285</td>\n",
       "      <td>0.983918</td>\n",
       "    </tr>\n",
       "    <tr>\n",
       "      <th>room_type_2</th>\n",
       "      <td>0.333925</td>\n",
       "      <td>563</td>\n",
       "      <td>0.005290</td>\n",
       "      <td>1.016097</td>\n",
       "    </tr>\n",
       "    <tr>\n",
       "      <th>room_type_3</th>\n",
       "      <td>0.333333</td>\n",
       "      <td>6</td>\n",
       "      <td>0.004698</td>\n",
       "      <td>1.014295</td>\n",
       "    </tr>\n",
       "    <tr>\n",
       "      <th>room_type_4</th>\n",
       "      <td>0.341352</td>\n",
       "      <td>4822</td>\n",
       "      <td>0.012717</td>\n",
       "      <td>1.038696</td>\n",
       "    </tr>\n",
       "    <tr>\n",
       "      <th>room_type_5</th>\n",
       "      <td>0.275701</td>\n",
       "      <td>214</td>\n",
       "      <td>-0.052934</td>\n",
       "      <td>0.838926</td>\n",
       "    </tr>\n",
       "    <tr>\n",
       "      <th>room_type_6</th>\n",
       "      <td>0.425641</td>\n",
       "      <td>780</td>\n",
       "      <td>0.097006</td>\n",
       "      <td>1.295177</td>\n",
       "    </tr>\n",
       "    <tr>\n",
       "      <th>room_type_7</th>\n",
       "      <td>0.253846</td>\n",
       "      <td>130</td>\n",
       "      <td>-0.074789</td>\n",
       "      <td>0.772425</td>\n",
       "    </tr>\n",
       "  </tbody>\n",
       "</table>\n",
       "</div>"
      ],
      "text/plain": [
       "                        mean  count      diff      risk\n",
       "room_type_reserved                                     \n",
       "room_type_1         0.323350  22505 -0.005285  0.983918\n",
       "room_type_2         0.333925    563  0.005290  1.016097\n",
       "room_type_3         0.333333      6  0.004698  1.014295\n",
       "room_type_4         0.341352   4822  0.012717  1.038696\n",
       "room_type_5         0.275701    214 -0.052934  0.838926\n",
       "room_type_6         0.425641    780  0.097006  1.295177\n",
       "room_type_7         0.253846    130 -0.074789  0.772425"
      ]
     },
     "metadata": {},
     "output_type": "display_data"
    },
    {
     "name": "stdout",
     "output_type": "stream",
     "text": [
      "\n",
      "\n",
      "\n",
      "arrival_month\n"
     ]
    },
    {
     "data": {
      "text/html": [
       "<div>\n",
       "<style scoped>\n",
       "    .dataframe tbody tr th:only-of-type {\n",
       "        vertical-align: middle;\n",
       "    }\n",
       "\n",
       "    .dataframe tbody tr th {\n",
       "        vertical-align: top;\n",
       "    }\n",
       "\n",
       "    .dataframe thead th {\n",
       "        text-align: right;\n",
       "    }\n",
       "</style>\n",
       "<table border=\"1\" class=\"dataframe\">\n",
       "  <thead>\n",
       "    <tr style=\"text-align: right;\">\n",
       "      <th></th>\n",
       "      <th>mean</th>\n",
       "      <th>count</th>\n",
       "      <th>diff</th>\n",
       "      <th>risk</th>\n",
       "    </tr>\n",
       "    <tr>\n",
       "      <th>arrival_month</th>\n",
       "      <th></th>\n",
       "      <th></th>\n",
       "      <th></th>\n",
       "      <th></th>\n",
       "    </tr>\n",
       "  </thead>\n",
       "  <tbody>\n",
       "    <tr>\n",
       "      <th>1</th>\n",
       "      <td>0.023428</td>\n",
       "      <td>811</td>\n",
       "      <td>-0.305208</td>\n",
       "      <td>0.071288</td>\n",
       "    </tr>\n",
       "    <tr>\n",
       "      <th>2</th>\n",
       "      <td>0.247619</td>\n",
       "      <td>1365</td>\n",
       "      <td>-0.081016</td>\n",
       "      <td>0.753476</td>\n",
       "    </tr>\n",
       "    <tr>\n",
       "      <th>3</th>\n",
       "      <td>0.302350</td>\n",
       "      <td>1872</td>\n",
       "      <td>-0.026285</td>\n",
       "      <td>0.920018</td>\n",
       "    </tr>\n",
       "    <tr>\n",
       "      <th>4</th>\n",
       "      <td>0.365621</td>\n",
       "      <td>2199</td>\n",
       "      <td>0.036985</td>\n",
       "      <td>1.112542</td>\n",
       "    </tr>\n",
       "    <tr>\n",
       "      <th>5</th>\n",
       "      <td>0.369534</td>\n",
       "      <td>2081</td>\n",
       "      <td>0.040898</td>\n",
       "      <td>1.124449</td>\n",
       "    </tr>\n",
       "    <tr>\n",
       "      <th>6</th>\n",
       "      <td>0.398093</td>\n",
       "      <td>2517</td>\n",
       "      <td>0.069458</td>\n",
       "      <td>1.211351</td>\n",
       "    </tr>\n",
       "    <tr>\n",
       "      <th>7</th>\n",
       "      <td>0.447582</td>\n",
       "      <td>2337</td>\n",
       "      <td>0.118947</td>\n",
       "      <td>1.361942</td>\n",
       "    </tr>\n",
       "    <tr>\n",
       "      <th>8</th>\n",
       "      <td>0.390069</td>\n",
       "      <td>3061</td>\n",
       "      <td>0.061433</td>\n",
       "      <td>1.186934</td>\n",
       "    </tr>\n",
       "    <tr>\n",
       "      <th>9</th>\n",
       "      <td>0.343227</td>\n",
       "      <td>3706</td>\n",
       "      <td>0.014592</td>\n",
       "      <td>1.044401</td>\n",
       "    </tr>\n",
       "    <tr>\n",
       "      <th>10</th>\n",
       "      <td>0.353313</td>\n",
       "      <td>4271</td>\n",
       "      <td>0.024678</td>\n",
       "      <td>1.075091</td>\n",
       "    </tr>\n",
       "    <tr>\n",
       "      <th>11</th>\n",
       "      <td>0.289806</td>\n",
       "      <td>2374</td>\n",
       "      <td>-0.038829</td>\n",
       "      <td>0.881847</td>\n",
       "    </tr>\n",
       "    <tr>\n",
       "      <th>12</th>\n",
       "      <td>0.136026</td>\n",
       "      <td>2426</td>\n",
       "      <td>-0.192609</td>\n",
       "      <td>0.413913</td>\n",
       "    </tr>\n",
       "  </tbody>\n",
       "</table>\n",
       "</div>"
      ],
      "text/plain": [
       "                   mean  count      diff      risk\n",
       "arrival_month                                     \n",
       "1              0.023428    811 -0.305208  0.071288\n",
       "2              0.247619   1365 -0.081016  0.753476\n",
       "3              0.302350   1872 -0.026285  0.920018\n",
       "4              0.365621   2199  0.036985  1.112542\n",
       "5              0.369534   2081  0.040898  1.124449\n",
       "6              0.398093   2517  0.069458  1.211351\n",
       "7              0.447582   2337  0.118947  1.361942\n",
       "8              0.390069   3061  0.061433  1.186934\n",
       "9              0.343227   3706  0.014592  1.044401\n",
       "10             0.353313   4271  0.024678  1.075091\n",
       "11             0.289806   2374 -0.038829  0.881847\n",
       "12             0.136026   2426 -0.192609  0.413913"
      ]
     },
     "metadata": {},
     "output_type": "display_data"
    },
    {
     "name": "stdout",
     "output_type": "stream",
     "text": [
      "\n",
      "\n",
      "\n",
      "arrival_date\n"
     ]
    },
    {
     "data": {
      "text/html": [
       "<div>\n",
       "<style scoped>\n",
       "    .dataframe tbody tr th:only-of-type {\n",
       "        vertical-align: middle;\n",
       "    }\n",
       "\n",
       "    .dataframe tbody tr th {\n",
       "        vertical-align: top;\n",
       "    }\n",
       "\n",
       "    .dataframe thead th {\n",
       "        text-align: right;\n",
       "    }\n",
       "</style>\n",
       "<table border=\"1\" class=\"dataframe\">\n",
       "  <thead>\n",
       "    <tr style=\"text-align: right;\">\n",
       "      <th></th>\n",
       "      <th>mean</th>\n",
       "      <th>count</th>\n",
       "      <th>diff</th>\n",
       "      <th>risk</th>\n",
       "    </tr>\n",
       "    <tr>\n",
       "      <th>arrival_date</th>\n",
       "      <th></th>\n",
       "      <th></th>\n",
       "      <th></th>\n",
       "      <th></th>\n",
       "    </tr>\n",
       "  </thead>\n",
       "  <tbody>\n",
       "    <tr>\n",
       "      <th>1</th>\n",
       "      <td>0.391211</td>\n",
       "      <td>933</td>\n",
       "      <td>0.062576</td>\n",
       "      <td>1.190411</td>\n",
       "    </tr>\n",
       "    <tr>\n",
       "      <th>2</th>\n",
       "      <td>0.236891</td>\n",
       "      <td>1068</td>\n",
       "      <td>-0.091744</td>\n",
       "      <td>0.720833</td>\n",
       "    </tr>\n",
       "    <tr>\n",
       "      <th>3</th>\n",
       "      <td>0.358314</td>\n",
       "      <td>854</td>\n",
       "      <td>0.029678</td>\n",
       "      <td>1.090308</td>\n",
       "    </tr>\n",
       "    <tr>\n",
       "      <th>4</th>\n",
       "      <td>0.359665</td>\n",
       "      <td>1076</td>\n",
       "      <td>0.031030</td>\n",
       "      <td>1.094421</td>\n",
       "    </tr>\n",
       "    <tr>\n",
       "      <th>5</th>\n",
       "      <td>0.291807</td>\n",
       "      <td>891</td>\n",
       "      <td>-0.036828</td>\n",
       "      <td>0.887935</td>\n",
       "    </tr>\n",
       "    <tr>\n",
       "      <th>6</th>\n",
       "      <td>0.351190</td>\n",
       "      <td>1008</td>\n",
       "      <td>0.022555</td>\n",
       "      <td>1.068632</td>\n",
       "    </tr>\n",
       "    <tr>\n",
       "      <th>7</th>\n",
       "      <td>0.334862</td>\n",
       "      <td>872</td>\n",
       "      <td>0.006227</td>\n",
       "      <td>1.018948</td>\n",
       "    </tr>\n",
       "    <tr>\n",
       "      <th>8</th>\n",
       "      <td>0.299270</td>\n",
       "      <td>959</td>\n",
       "      <td>-0.029365</td>\n",
       "      <td>0.910645</td>\n",
       "    </tr>\n",
       "    <tr>\n",
       "      <th>9</th>\n",
       "      <td>0.255763</td>\n",
       "      <td>911</td>\n",
       "      <td>-0.072873</td>\n",
       "      <td>0.778257</td>\n",
       "    </tr>\n",
       "    <tr>\n",
       "      <th>10</th>\n",
       "      <td>0.286517</td>\n",
       "      <td>890</td>\n",
       "      <td>-0.042119</td>\n",
       "      <td>0.871838</td>\n",
       "    </tr>\n",
       "    <tr>\n",
       "      <th>11</th>\n",
       "      <td>0.305430</td>\n",
       "      <td>884</td>\n",
       "      <td>-0.023206</td>\n",
       "      <td>0.929388</td>\n",
       "    </tr>\n",
       "    <tr>\n",
       "      <th>12</th>\n",
       "      <td>0.381101</td>\n",
       "      <td>963</td>\n",
       "      <td>0.052465</td>\n",
       "      <td>1.159646</td>\n",
       "    </tr>\n",
       "    <tr>\n",
       "      <th>13</th>\n",
       "      <td>0.309041</td>\n",
       "      <td>1084</td>\n",
       "      <td>-0.019595</td>\n",
       "      <td>0.940375</td>\n",
       "    </tr>\n",
       "    <tr>\n",
       "      <th>14</th>\n",
       "      <td>0.268168</td>\n",
       "      <td>977</td>\n",
       "      <td>-0.060468</td>\n",
       "      <td>0.816004</td>\n",
       "    </tr>\n",
       "    <tr>\n",
       "      <th>15</th>\n",
       "      <td>0.426499</td>\n",
       "      <td>1034</td>\n",
       "      <td>0.097864</td>\n",
       "      <td>1.297788</td>\n",
       "    </tr>\n",
       "    <tr>\n",
       "      <th>16</th>\n",
       "      <td>0.369646</td>\n",
       "      <td>1074</td>\n",
       "      <td>0.041011</td>\n",
       "      <td>1.124791</td>\n",
       "    </tr>\n",
       "    <tr>\n",
       "      <th>17</th>\n",
       "      <td>0.337017</td>\n",
       "      <td>1086</td>\n",
       "      <td>0.008381</td>\n",
       "      <td>1.025503</td>\n",
       "    </tr>\n",
       "    <tr>\n",
       "      <th>18</th>\n",
       "      <td>0.284148</td>\n",
       "      <td>1003</td>\n",
       "      <td>-0.044488</td>\n",
       "      <td>0.864629</td>\n",
       "    </tr>\n",
       "    <tr>\n",
       "      <th>19</th>\n",
       "      <td>0.304924</td>\n",
       "      <td>1056</td>\n",
       "      <td>-0.023711</td>\n",
       "      <td>0.927850</td>\n",
       "    </tr>\n",
       "    <tr>\n",
       "      <th>20</th>\n",
       "      <td>0.329423</td>\n",
       "      <td>1023</td>\n",
       "      <td>0.000788</td>\n",
       "      <td>1.002397</td>\n",
       "    </tr>\n",
       "    <tr>\n",
       "      <th>21</th>\n",
       "      <td>0.326157</td>\n",
       "      <td>929</td>\n",
       "      <td>-0.002478</td>\n",
       "      <td>0.992459</td>\n",
       "    </tr>\n",
       "    <tr>\n",
       "      <th>22</th>\n",
       "      <td>0.352232</td>\n",
       "      <td>829</td>\n",
       "      <td>0.023596</td>\n",
       "      <td>1.071800</td>\n",
       "    </tr>\n",
       "    <tr>\n",
       "      <th>23</th>\n",
       "      <td>0.338403</td>\n",
       "      <td>789</td>\n",
       "      <td>0.009768</td>\n",
       "      <td>1.029722</td>\n",
       "    </tr>\n",
       "    <tr>\n",
       "      <th>24</th>\n",
       "      <td>0.342625</td>\n",
       "      <td>861</td>\n",
       "      <td>0.013989</td>\n",
       "      <td>1.042568</td>\n",
       "    </tr>\n",
       "    <tr>\n",
       "      <th>25</th>\n",
       "      <td>0.351111</td>\n",
       "      <td>900</td>\n",
       "      <td>0.022476</td>\n",
       "      <td>1.068391</td>\n",
       "    </tr>\n",
       "    <tr>\n",
       "      <th>26</th>\n",
       "      <td>0.365934</td>\n",
       "      <td>910</td>\n",
       "      <td>0.037299</td>\n",
       "      <td>1.113496</td>\n",
       "    </tr>\n",
       "    <tr>\n",
       "      <th>27</th>\n",
       "      <td>0.295082</td>\n",
       "      <td>854</td>\n",
       "      <td>-0.033553</td>\n",
       "      <td>0.897901</td>\n",
       "    </tr>\n",
       "    <tr>\n",
       "      <th>28</th>\n",
       "      <td>0.359611</td>\n",
       "      <td>926</td>\n",
       "      <td>0.030976</td>\n",
       "      <td>1.094256</td>\n",
       "    </tr>\n",
       "    <tr>\n",
       "      <th>29</th>\n",
       "      <td>0.281837</td>\n",
       "      <td>958</td>\n",
       "      <td>-0.046798</td>\n",
       "      <td>0.857598</td>\n",
       "    </tr>\n",
       "    <tr>\n",
       "      <th>30</th>\n",
       "      <td>0.380805</td>\n",
       "      <td>969</td>\n",
       "      <td>0.052170</td>\n",
       "      <td>1.158746</td>\n",
       "    </tr>\n",
       "    <tr>\n",
       "      <th>31</th>\n",
       "      <td>0.296214</td>\n",
       "      <td>449</td>\n",
       "      <td>-0.032422</td>\n",
       "      <td>0.901345</td>\n",
       "    </tr>\n",
       "  </tbody>\n",
       "</table>\n",
       "</div>"
      ],
      "text/plain": [
       "                  mean  count      diff      risk\n",
       "arrival_date                                     \n",
       "1             0.391211    933  0.062576  1.190411\n",
       "2             0.236891   1068 -0.091744  0.720833\n",
       "3             0.358314    854  0.029678  1.090308\n",
       "4             0.359665   1076  0.031030  1.094421\n",
       "5             0.291807    891 -0.036828  0.887935\n",
       "6             0.351190   1008  0.022555  1.068632\n",
       "7             0.334862    872  0.006227  1.018948\n",
       "8             0.299270    959 -0.029365  0.910645\n",
       "9             0.255763    911 -0.072873  0.778257\n",
       "10            0.286517    890 -0.042119  0.871838\n",
       "11            0.305430    884 -0.023206  0.929388\n",
       "12            0.381101    963  0.052465  1.159646\n",
       "13            0.309041   1084 -0.019595  0.940375\n",
       "14            0.268168    977 -0.060468  0.816004\n",
       "15            0.426499   1034  0.097864  1.297788\n",
       "16            0.369646   1074  0.041011  1.124791\n",
       "17            0.337017   1086  0.008381  1.025503\n",
       "18            0.284148   1003 -0.044488  0.864629\n",
       "19            0.304924   1056 -0.023711  0.927850\n",
       "20            0.329423   1023  0.000788  1.002397\n",
       "21            0.326157    929 -0.002478  0.992459\n",
       "22            0.352232    829  0.023596  1.071800\n",
       "23            0.338403    789  0.009768  1.029722\n",
       "24            0.342625    861  0.013989  1.042568\n",
       "25            0.351111    900  0.022476  1.068391\n",
       "26            0.365934    910  0.037299  1.113496\n",
       "27            0.295082    854 -0.033553  0.897901\n",
       "28            0.359611    926  0.030976  1.094256\n",
       "29            0.281837    958 -0.046798  0.857598\n",
       "30            0.380805    969  0.052170  1.158746\n",
       "31            0.296214    449 -0.032422  0.901345"
      ]
     },
     "metadata": {},
     "output_type": "display_data"
    },
    {
     "name": "stdout",
     "output_type": "stream",
     "text": [
      "\n",
      "\n",
      "\n",
      "market_segment_type\n"
     ]
    },
    {
     "data": {
      "text/html": [
       "<div>\n",
       "<style scoped>\n",
       "    .dataframe tbody tr th:only-of-type {\n",
       "        vertical-align: middle;\n",
       "    }\n",
       "\n",
       "    .dataframe tbody tr th {\n",
       "        vertical-align: top;\n",
       "    }\n",
       "\n",
       "    .dataframe thead th {\n",
       "        text-align: right;\n",
       "    }\n",
       "</style>\n",
       "<table border=\"1\" class=\"dataframe\">\n",
       "  <thead>\n",
       "    <tr style=\"text-align: right;\">\n",
       "      <th></th>\n",
       "      <th>mean</th>\n",
       "      <th>count</th>\n",
       "      <th>diff</th>\n",
       "      <th>risk</th>\n",
       "    </tr>\n",
       "    <tr>\n",
       "      <th>market_segment_type</th>\n",
       "      <th></th>\n",
       "      <th></th>\n",
       "      <th></th>\n",
       "      <th></th>\n",
       "    </tr>\n",
       "  </thead>\n",
       "  <tbody>\n",
       "    <tr>\n",
       "      <th>aviation</th>\n",
       "      <td>0.290000</td>\n",
       "      <td>100</td>\n",
       "      <td>-0.038635</td>\n",
       "      <td>0.882437</td>\n",
       "    </tr>\n",
       "    <tr>\n",
       "      <th>complementary</th>\n",
       "      <td>0.000000</td>\n",
       "      <td>305</td>\n",
       "      <td>-0.328635</td>\n",
       "      <td>0.000000</td>\n",
       "    </tr>\n",
       "    <tr>\n",
       "      <th>corporate</th>\n",
       "      <td>0.114127</td>\n",
       "      <td>1621</td>\n",
       "      <td>-0.214508</td>\n",
       "      <td>0.347276</td>\n",
       "    </tr>\n",
       "    <tr>\n",
       "      <th>offline</th>\n",
       "      <td>0.297832</td>\n",
       "      <td>8394</td>\n",
       "      <td>-0.030804</td>\n",
       "      <td>0.906268</td>\n",
       "    </tr>\n",
       "    <tr>\n",
       "      <th>online</th>\n",
       "      <td>0.366828</td>\n",
       "      <td>18600</td>\n",
       "      <td>0.038193</td>\n",
       "      <td>1.116216</td>\n",
       "    </tr>\n",
       "  </tbody>\n",
       "</table>\n",
       "</div>"
      ],
      "text/plain": [
       "                         mean  count      diff      risk\n",
       "market_segment_type                                     \n",
       "aviation             0.290000    100 -0.038635  0.882437\n",
       "complementary        0.000000    305 -0.328635  0.000000\n",
       "corporate            0.114127   1621 -0.214508  0.347276\n",
       "offline              0.297832   8394 -0.030804  0.906268\n",
       "online               0.366828  18600  0.038193  1.116216"
      ]
     },
     "metadata": {},
     "output_type": "display_data"
    },
    {
     "name": "stdout",
     "output_type": "stream",
     "text": [
      "\n",
      "\n",
      "\n",
      "repeated_guest\n"
     ]
    },
    {
     "data": {
      "text/html": [
       "<div>\n",
       "<style scoped>\n",
       "    .dataframe tbody tr th:only-of-type {\n",
       "        vertical-align: middle;\n",
       "    }\n",
       "\n",
       "    .dataframe tbody tr th {\n",
       "        vertical-align: top;\n",
       "    }\n",
       "\n",
       "    .dataframe thead th {\n",
       "        text-align: right;\n",
       "    }\n",
       "</style>\n",
       "<table border=\"1\" class=\"dataframe\">\n",
       "  <thead>\n",
       "    <tr style=\"text-align: right;\">\n",
       "      <th></th>\n",
       "      <th>mean</th>\n",
       "      <th>count</th>\n",
       "      <th>diff</th>\n",
       "      <th>risk</th>\n",
       "    </tr>\n",
       "    <tr>\n",
       "      <th>repeated_guest</th>\n",
       "      <th></th>\n",
       "      <th></th>\n",
       "      <th></th>\n",
       "      <th></th>\n",
       "    </tr>\n",
       "  </thead>\n",
       "  <tbody>\n",
       "    <tr>\n",
       "      <th>0</th>\n",
       "      <td>0.336822</td>\n",
       "      <td>28279</td>\n",
       "      <td>0.008187</td>\n",
       "      <td>1.024912</td>\n",
       "    </tr>\n",
       "    <tr>\n",
       "      <th>1</th>\n",
       "      <td>0.016194</td>\n",
       "      <td>741</td>\n",
       "      <td>-0.312441</td>\n",
       "      <td>0.049277</td>\n",
       "    </tr>\n",
       "  </tbody>\n",
       "</table>\n",
       "</div>"
      ],
      "text/plain": [
       "                    mean  count      diff      risk\n",
       "repeated_guest                                     \n",
       "0               0.336822  28279  0.008187  1.024912\n",
       "1               0.016194    741 -0.312441  0.049277"
      ]
     },
     "metadata": {},
     "output_type": "display_data"
    },
    {
     "name": "stdout",
     "output_type": "stream",
     "text": [
      "\n",
      "\n",
      "\n"
     ]
    }
   ],
   "source": [
    "for c in categorical:\n",
    "    print(c)\n",
    "    df_group = df_full_train.groupby(c)[TARGET].agg(['mean', 'count'])\n",
    "    df_group['diff'] = df_group['mean'] - global_cancellation_rate\n",
    "    df_group['risk'] = df_group['mean'] / global_cancellation_rate\n",
    "    display(df_group)\n",
    "    print('\\n\\n')"
   ]
  },
  {
   "cell_type": "markdown",
   "metadata": {},
   "source": [
    "### Feature Importance: Mutual information"
   ]
  },
  {
   "cell_type": "code",
   "execution_count": 19,
   "metadata": {},
   "outputs": [],
   "source": [
    "def mutual_info_cancellation_score(series):\n",
    "    return mutual_info_score(series, df_full_train[TARGET])"
   ]
  },
  {
   "cell_type": "code",
   "execution_count": 20,
   "metadata": {},
   "outputs": [
    {
     "data": {
      "text/plain": [
       "arrival_month                 0.022822\n",
       "market_segment_type           0.013890\n",
       "repeated_guest                0.008502\n",
       "required_car_parking_space    0.004723\n",
       "arrival_date                  0.004275\n",
       "type_of_meal_plan             0.003861\n",
       "room_type_reserved            0.000769\n",
       "dtype: float64"
      ]
     },
     "execution_count": 20,
     "metadata": {},
     "output_type": "execute_result"
    }
   ],
   "source": [
    "mi = df_full_train[categorical].apply(mutual_info_cancellation_score)\n",
    "mi.sort_values(ascending=False)"
   ]
  },
  {
   "cell_type": "markdown",
   "metadata": {},
   "source": [
    "### Feature Importance: Correlation"
   ]
  },
  {
   "cell_type": "code",
   "execution_count": 21,
   "metadata": {},
   "outputs": [
    {
     "data": {
      "text/plain": [
       "lead_time                               0.438241\n",
       "no_of_special_requests                  0.251734\n",
       "avg_price_per_room                      0.146501\n",
       "no_of_adults                            0.091589\n",
       "no_of_week_nights                       0.091316\n",
       "no_of_weekend_nights                    0.062028\n",
       "no_of_previous_bookings_not_canceled    0.060505\n",
       "no_of_children                          0.036285\n",
       "no_of_previous_cancellations            0.035677\n",
       "dtype: float64"
      ]
     },
     "execution_count": 21,
     "metadata": {},
     "output_type": "execute_result"
    }
   ],
   "source": [
    "df_full_train[numerical].corrwith(df_full_train[TARGET]).abs().sort_values(ascending=False)"
   ]
  },
  {
   "cell_type": "markdown",
   "metadata": {},
   "source": [
    "From our analysis, it's clear that `lead_time`, `market_segment_type`, `avg_price_per_room`, and `no_of_special_requests` have the most significant influence on the target."
   ]
  },
  {
   "cell_type": "markdown",
   "metadata": {},
   "source": [
    "## Model Training"
   ]
  },
  {
   "cell_type": "code",
   "execution_count": 22,
   "metadata": {},
   "outputs": [],
   "source": [
    "features = [*df_full_train.columns]\n",
    "features.remove(TARGET)"
   ]
  },
  {
   "cell_type": "markdown",
   "metadata": {},
   "source": [
    "### Logistic Regression: 5-Fold Cross-Validation"
   ]
  },
  {
   "cell_type": "code",
   "execution_count": 23,
   "metadata": {},
   "outputs": [],
   "source": [
    "model_params = {\n",
    "    'solver': 'liblinear',\n",
    "    'C': 10,\n",
    "    'max_iter': 1000,\n",
    "    'random_state': SEED\n",
    "}"
   ]
  },
  {
   "cell_type": "code",
   "execution_count": 24,
   "metadata": {},
   "outputs": [],
   "source": [
    "model, dv, evaluation_metrics = train_model_and_evaluate(df_full_train, model_params=model_params, features=features,\n",
    "                                                         target=TARGET, trainer='logistic_regression',\n",
    "                                                         kfold_splits=KFOLD_SPLITS, seed=SEED)"
   ]
  },
  {
   "cell_type": "code",
   "execution_count": 25,
   "metadata": {},
   "outputs": [
    {
     "data": {
      "text/plain": [
       "(0.862, 0.003)"
      ]
     },
     "execution_count": 25,
     "metadata": {},
     "output_type": "execute_result"
    }
   ],
   "source": [
    "round(evaluation_metrics['AUC'].mean, 3), round(evaluation_metrics['AUC'].std, 3)"
   ]
  },
  {
   "cell_type": "markdown",
   "metadata": {},
   "source": [
    "### Logistic Regression: Parameters Tuning"
   ]
  },
  {
   "cell_type": "code",
   "execution_count": 26,
   "metadata": {},
   "outputs": [
    {
     "data": {
      "application/vnd.jupyter.widget-view+json": {
       "model_id": "adccdddb84c24b77ac0256be230881fc",
       "version_major": 2,
       "version_minor": 0
      },
      "text/plain": [
       "C:   0%|          | 0/4 [00:00<?, ?it/s]"
      ]
     },
     "metadata": {},
     "output_type": "display_data"
    }
   ],
   "source": [
    "C = [0.01, 0.1, 0.5, 10]\n",
    "\n",
    "auc_scores = []\n",
    "\n",
    "for c in tqdm(C, desc='C'):\n",
    "\n",
    "    model_params = {\n",
    "        'solver': 'liblinear',\n",
    "        'C': c,\n",
    "        'max_iter': 1000,\n",
    "        'random_state': SEED\n",
    "    }\n",
    "\n",
    "    model, dv, evaluation_metrics = train_model_and_evaluate(df_full_train, features=features, target=TARGET,\n",
    "                                                             trainer='logistic_regression', kfold_splits=KFOLD_SPLITS,\n",
    "                                                             seed=SEED, model_params=model_params)\n",
    "    auc_scores.append(evaluation_metrics['AUC'].mean)"
   ]
  },
  {
   "cell_type": "code",
   "execution_count": 27,
   "metadata": {},
   "outputs": [
    {
     "data": {
      "text/html": [
       "<div>\n",
       "<style scoped>\n",
       "    .dataframe tbody tr th:only-of-type {\n",
       "        vertical-align: middle;\n",
       "    }\n",
       "\n",
       "    .dataframe tbody tr th {\n",
       "        vertical-align: top;\n",
       "    }\n",
       "\n",
       "    .dataframe thead th {\n",
       "        text-align: right;\n",
       "    }\n",
       "</style>\n",
       "<table border=\"1\" class=\"dataframe\">\n",
       "  <thead>\n",
       "    <tr style=\"text-align: right;\">\n",
       "      <th></th>\n",
       "      <th>C</th>\n",
       "      <th>AUC</th>\n",
       "    </tr>\n",
       "  </thead>\n",
       "  <tbody>\n",
       "    <tr>\n",
       "      <th>0</th>\n",
       "      <td>0.01</td>\n",
       "      <td>0.859176</td>\n",
       "    </tr>\n",
       "    <tr>\n",
       "      <th>1</th>\n",
       "      <td>0.10</td>\n",
       "      <td>0.862301</td>\n",
       "    </tr>\n",
       "    <tr>\n",
       "      <th>2</th>\n",
       "      <td>0.50</td>\n",
       "      <td>0.862438</td>\n",
       "    </tr>\n",
       "    <tr>\n",
       "      <th>3</th>\n",
       "      <td>10.00</td>\n",
       "      <td>0.862376</td>\n",
       "    </tr>\n",
       "  </tbody>\n",
       "</table>\n",
       "</div>"
      ],
      "text/plain": [
       "       C       AUC\n",
       "0   0.01  0.859176\n",
       "1   0.10  0.862301\n",
       "2   0.50  0.862438\n",
       "3  10.00  0.862376"
      ]
     },
     "execution_count": 27,
     "metadata": {},
     "output_type": "execute_result"
    }
   ],
   "source": [
    "scores = [*zip(C, auc_scores)]\n",
    "df_scores = pd.DataFrame(scores, columns=['C', 'AUC'])\n",
    "df_scores"
   ]
  },
  {
   "cell_type": "markdown",
   "metadata": {},
   "source": [
    "Adjusting parameters does not notably impact the logistic regression model."
   ]
  },
  {
   "cell_type": "markdown",
   "metadata": {},
   "source": [
    "### Decision Tree: 5-Fold Cross-Validation"
   ]
  },
  {
   "cell_type": "code",
   "execution_count": 28,
   "metadata": {},
   "outputs": [],
   "source": [
    "model_params = {\n",
    "    'min_samples_leaf': 1,\n",
    "    'random_state': SEED\n",
    "}"
   ]
  },
  {
   "cell_type": "code",
   "execution_count": 29,
   "metadata": {},
   "outputs": [],
   "source": [
    "model, dv, evaluation_metrics = train_model_and_evaluate(df_full_train, features=features, target=TARGET,\n",
    "                                                         trainer='decision_tree', model_params=model_params,\n",
    "                                                         kfold_splits=KFOLD_SPLITS, seed=SEED)"
   ]
  },
  {
   "cell_type": "code",
   "execution_count": 30,
   "metadata": {},
   "outputs": [
    {
     "data": {
      "text/plain": [
       "(0.848, 0.007)"
      ]
     },
     "execution_count": 30,
     "metadata": {},
     "output_type": "execute_result"
    }
   ],
   "source": [
    "round(evaluation_metrics['AUC'].mean, 3), round(evaluation_metrics['AUC'].std, 3)"
   ]
  },
  {
   "cell_type": "markdown",
   "metadata": {},
   "source": [
    "### Decision Tree: Parameters Tuning"
   ]
  },
  {
   "cell_type": "code",
   "execution_count": 31,
   "metadata": {},
   "outputs": [
    {
     "data": {
      "application/vnd.jupyter.widget-view+json": {
       "model_id": "f5ab3e5cb5014e63be9407423d2214de",
       "version_major": 2,
       "version_minor": 0
      },
      "text/plain": [
       "max_depth:   0%|          | 0/10 [00:00<?, ?it/s]"
      ]
     },
     "metadata": {},
     "output_type": "display_data"
    }
   ],
   "source": [
    "depths = [1, 2, 3, 4, 5, 6, 10, 15, 20, None]\n",
    "\n",
    "auc_scores = []\n",
    "\n",
    "for d in tqdm(depths, desc='max_depth'):\n",
    "\n",
    "    model_params = {\n",
    "        'max_depth': d,\n",
    "        'min_samples_leaf': 1,\n",
    "        'random_state': SEED\n",
    "    }\n",
    "\n",
    "    model, dv, evaluation_metrics = train_model_and_evaluate(df_full_train, features=features, target=TARGET,\n",
    "                                                             trainer='decision_tree', model_params=model_params,\n",
    "                                                             kfold_splits=KFOLD_SPLITS, seed=SEED)\n",
    "    auc_scores.append(evaluation_metrics['AUC'].mean)"
   ]
  },
  {
   "cell_type": "code",
   "execution_count": 32,
   "metadata": {},
   "outputs": [
    {
     "data": {
      "text/html": [
       "<div>\n",
       "<style scoped>\n",
       "    .dataframe tbody tr th:only-of-type {\n",
       "        vertical-align: middle;\n",
       "    }\n",
       "\n",
       "    .dataframe tbody tr th {\n",
       "        vertical-align: top;\n",
       "    }\n",
       "\n",
       "    .dataframe thead th {\n",
       "        text-align: right;\n",
       "    }\n",
       "</style>\n",
       "<table border=\"1\" class=\"dataframe\">\n",
       "  <thead>\n",
       "    <tr style=\"text-align: right;\">\n",
       "      <th></th>\n",
       "      <th>max_depth</th>\n",
       "      <th>AUC</th>\n",
       "    </tr>\n",
       "  </thead>\n",
       "  <tbody>\n",
       "    <tr>\n",
       "      <th>6</th>\n",
       "      <td>10.0</td>\n",
       "      <td>0.922690</td>\n",
       "    </tr>\n",
       "    <tr>\n",
       "      <th>7</th>\n",
       "      <td>15.0</td>\n",
       "      <td>0.901835</td>\n",
       "    </tr>\n",
       "    <tr>\n",
       "      <th>5</th>\n",
       "      <td>6.0</td>\n",
       "      <td>0.894426</td>\n",
       "    </tr>\n",
       "    <tr>\n",
       "      <th>4</th>\n",
       "      <td>5.0</td>\n",
       "      <td>0.881084</td>\n",
       "    </tr>\n",
       "    <tr>\n",
       "      <th>3</th>\n",
       "      <td>4.0</td>\n",
       "      <td>0.865469</td>\n",
       "    </tr>\n",
       "    <tr>\n",
       "      <th>8</th>\n",
       "      <td>20.0</td>\n",
       "      <td>0.865334</td>\n",
       "    </tr>\n",
       "    <tr>\n",
       "      <th>9</th>\n",
       "      <td>NaN</td>\n",
       "      <td>0.847828</td>\n",
       "    </tr>\n",
       "    <tr>\n",
       "      <th>2</th>\n",
       "      <td>3.0</td>\n",
       "      <td>0.822597</td>\n",
       "    </tr>\n",
       "    <tr>\n",
       "      <th>1</th>\n",
       "      <td>2.0</td>\n",
       "      <td>0.761797</td>\n",
       "    </tr>\n",
       "    <tr>\n",
       "      <th>0</th>\n",
       "      <td>1.0</td>\n",
       "      <td>0.676753</td>\n",
       "    </tr>\n",
       "  </tbody>\n",
       "</table>\n",
       "</div>"
      ],
      "text/plain": [
       "   max_depth       AUC\n",
       "6       10.0  0.922690\n",
       "7       15.0  0.901835\n",
       "5        6.0  0.894426\n",
       "4        5.0  0.881084\n",
       "3        4.0  0.865469\n",
       "8       20.0  0.865334\n",
       "9        NaN  0.847828\n",
       "2        3.0  0.822597\n",
       "1        2.0  0.761797\n",
       "0        1.0  0.676753"
      ]
     },
     "execution_count": 32,
     "metadata": {},
     "output_type": "execute_result"
    }
   ],
   "source": [
    "scores = [*zip(depths, auc_scores)]\n",
    "df_scores = pd.DataFrame(scores, columns=['max_depth', 'AUC'])\n",
    "df_scores.sort_values(by='AUC', ascending=False)"
   ]
  },
  {
   "cell_type": "code",
   "execution_count": 33,
   "metadata": {},
   "outputs": [
    {
     "data": {
      "text/plain": [
       "Text(0, 0.5, 'AUC')"
      ]
     },
     "execution_count": 33,
     "metadata": {},
     "output_type": "execute_result"
    },
    {
     "data": {
      "image/png": "[encoded data removed]",
      "text/plain": [
       "<Figure size 640x480 with 1 Axes>"
      ]
     },
     "metadata": {},
     "output_type": "display_data"
    }
   ],
   "source": [
    "plt.plot(df_scores['max_depth'], df_scores['AUC'])\n",
    "plt.xlabel('max_depth')\n",
    "plt.ylabel('AUC')"
   ]
  },
  {
   "cell_type": "markdown",
   "metadata": {},
   "source": [
    "The Decision Tree model delivers its best performance when the `max_depth` parameter is set to `10`."
   ]
  },
  {
   "cell_type": "code",
   "execution_count": 34,
   "metadata": {},
   "outputs": [
    {
     "data": {
      "application/vnd.jupyter.widget-view+json": {
       "model_id": "d0047b69a0794e18a13f9b7c1b5889b5",
       "version_major": 2,
       "version_minor": 0
      },
      "text/plain": [
       "min_samples_leaf:   0%|          | 0/8 [00:00<?, ?it/s]"
      ]
     },
     "metadata": {},
     "output_type": "display_data"
    }
   ],
   "source": [
    "min_samples_leaf = [1, 5, 10, 15, 20, 500, 100, 200]\n",
    "\n",
    "auc_scores = []\n",
    "\n",
    "for s in tqdm(min_samples_leaf, desc='min_samples_leaf'):\n",
    "\n",
    "    model_params = {\n",
    "        'max_depth': 10,\n",
    "        'min_samples_leaf': s,\n",
    "        'random_state': SEED\n",
    "    }\n",
    "\n",
    "    model, dv, evaluation_metrics = train_model_and_evaluate(df_full_train, features=features, target=TARGET,\n",
    "                                                             trainer='decision_tree', model_params=model_params,\n",
    "                                                             kfold_splits=KFOLD_SPLITS, seed=SEED)\n",
    "    auc_scores.append(evaluation_metrics['AUC'].mean)"
   ]
  },
  {
   "cell_type": "code",
   "execution_count": 35,
   "metadata": {},
   "outputs": [
    {
     "data": {
      "text/html": [
       "<div>\n",
       "<style scoped>\n",
       "    .dataframe tbody tr th:only-of-type {\n",
       "        vertical-align: middle;\n",
       "    }\n",
       "\n",
       "    .dataframe tbody tr th {\n",
       "        vertical-align: top;\n",
       "    }\n",
       "\n",
       "    .dataframe thead th {\n",
       "        text-align: right;\n",
       "    }\n",
       "</style>\n",
       "<table border=\"1\" class=\"dataframe\">\n",
       "  <thead>\n",
       "    <tr style=\"text-align: right;\">\n",
       "      <th></th>\n",
       "      <th>min_samples_leaf</th>\n",
       "      <th>AUC</th>\n",
       "    </tr>\n",
       "  </thead>\n",
       "  <tbody>\n",
       "    <tr>\n",
       "      <th>2</th>\n",
       "      <td>10</td>\n",
       "      <td>0.925917</td>\n",
       "    </tr>\n",
       "    <tr>\n",
       "      <th>1</th>\n",
       "      <td>5</td>\n",
       "      <td>0.925229</td>\n",
       "    </tr>\n",
       "    <tr>\n",
       "      <th>4</th>\n",
       "      <td>20</td>\n",
       "      <td>0.923609</td>\n",
       "    </tr>\n",
       "    <tr>\n",
       "      <th>3</th>\n",
       "      <td>15</td>\n",
       "      <td>0.923463</td>\n",
       "    </tr>\n",
       "    <tr>\n",
       "      <th>0</th>\n",
       "      <td>1</td>\n",
       "      <td>0.922690</td>\n",
       "    </tr>\n",
       "    <tr>\n",
       "      <th>6</th>\n",
       "      <td>100</td>\n",
       "      <td>0.905032</td>\n",
       "    </tr>\n",
       "    <tr>\n",
       "      <th>7</th>\n",
       "      <td>200</td>\n",
       "      <td>0.894366</td>\n",
       "    </tr>\n",
       "    <tr>\n",
       "      <th>5</th>\n",
       "      <td>500</td>\n",
       "      <td>0.879692</td>\n",
       "    </tr>\n",
       "  </tbody>\n",
       "</table>\n",
       "</div>"
      ],
      "text/plain": [
       "   min_samples_leaf       AUC\n",
       "2                10  0.925917\n",
       "1                 5  0.925229\n",
       "4                20  0.923609\n",
       "3                15  0.923463\n",
       "0                 1  0.922690\n",
       "6               100  0.905032\n",
       "7               200  0.894366\n",
       "5               500  0.879692"
      ]
     },
     "execution_count": 35,
     "metadata": {},
     "output_type": "execute_result"
    }
   ],
   "source": [
    "scores = [*zip(min_samples_leaf, auc_scores)]\n",
    "df_scores = pd.DataFrame(scores, columns=['min_samples_leaf', 'AUC'])\n",
    "df_scores.sort_values(by='AUC', ascending=False)"
   ]
  },
  {
   "cell_type": "markdown",
   "metadata": {},
   "source": [
    "The parameter `min_samples_leaf` doesn't notably affect the performance of the Decision Tree model."
   ]
  },
  {
   "cell_type": "markdown",
   "metadata": {},
   "source": [
    "### Random Forest: 5-Fold Cross-Validation"
   ]
  },
  {
   "cell_type": "code",
   "execution_count": 36,
   "metadata": {},
   "outputs": [],
   "source": [
    "model_params = {\n",
    "    'n_estimators': 100,\n",
    "    'min_samples_leaf': 1,\n",
    "    'random_state': SEED,\n",
    "    'n_jobs': N_JOBS\n",
    "}"
   ]
  },
  {
   "cell_type": "code",
   "execution_count": 37,
   "metadata": {},
   "outputs": [],
   "source": [
    "model, dv, evaluation_metrics = train_model_and_evaluate(df_full_train, features=features, target=TARGET,\n",
    "                                                         trainer='random_forest', model_params=model_params,\n",
    "                                                         kfold_splits=KFOLD_SPLITS, seed=SEED)"
   ]
  },
  {
   "cell_type": "code",
   "execution_count": 38,
   "metadata": {},
   "outputs": [
    {
     "data": {
      "text/plain": [
       "(0.949, 0.003)"
      ]
     },
     "execution_count": 38,
     "metadata": {},
     "output_type": "execute_result"
    }
   ],
   "source": [
    "round(evaluation_metrics['AUC'].mean, 3), round(evaluation_metrics['AUC'].std, 3)"
   ]
  },
  {
   "cell_type": "markdown",
   "metadata": {},
   "source": [
    "### Random Forest: Parameters Tuning"
   ]
  },
  {
   "cell_type": "code",
   "execution_count": 39,
   "metadata": {},
   "outputs": [
    {
     "data": {
      "application/vnd.jupyter.widget-view+json": {
       "model_id": "b65b9495d6dc47e0b93469b16b364c95",
       "version_major": 2,
       "version_minor": 0
      },
      "text/plain": [
       "max_depth:   0%|          | 0/3 [00:00<?, ?it/s]"
      ]
     },
     "metadata": {},
     "output_type": "display_data"
    },
    {
     "data": {
      "application/vnd.jupyter.widget-view+json": {
       "model_id": "1ab477c41617445c8e8d38919ab3fa3f",
       "version_major": 2,
       "version_minor": 0
      },
      "text/plain": [
       "n_estimators:   0%|          | 0/20 [00:00<?, ?it/s]"
      ]
     },
     "metadata": {},
     "output_type": "display_data"
    },
    {
     "data": {
      "application/vnd.jupyter.widget-view+json": {
       "model_id": "c7e3eb002d38407fb0a35d22bbafd09e",
       "version_major": 2,
       "version_minor": 0
      },
      "text/plain": [
       "n_estimators:   0%|          | 0/20 [00:00<?, ?it/s]"
      ]
     },
     "metadata": {},
     "output_type": "display_data"
    },
    {
     "data": {
      "application/vnd.jupyter.widget-view+json": {
       "model_id": "8f0da8a55d1a45f1aa330dfe53b485a1",
       "version_major": 2,
       "version_minor": 0
      },
      "text/plain": [
       "n_estimators:   0%|          | 0/20 [00:00<?, ?it/s]"
      ]
     },
     "metadata": {},
     "output_type": "display_data"
    }
   ],
   "source": [
    "auc_scores = []\n",
    "\n",
    "for d in tqdm([5, 10, 15], desc='max_depth'):\n",
    "    for n in tqdm(range(10, 201, 10), desc='n_estimators', leave=False):\n",
    "        model_params = {\n",
    "            'max_depth': d,\n",
    "            'n_estimators': n,\n",
    "            'min_samples_leaf': 1,\n",
    "            'random_state': SEED,\n",
    "            'n_jobs': N_JOBS\n",
    "        }\n",
    "\n",
    "        model, dv, evaluation_metrics = train_model_and_evaluate(df_full_train, features=features, target=TARGET,\n",
    "                                                                 trainer='random_forest', model_params=model_params,\n",
    "                                                                 kfold_splits=KFOLD_SPLITS, seed=SEED)\n",
    "        auc_scores.append((d, n, evaluation_metrics['AUC'].mean))"
   ]
  },
  {
   "cell_type": "code",
   "execution_count": 42,
   "metadata": {},
   "outputs": [
    {
     "data": {
      "text/html": [
       "<div>\n",
       "<style scoped>\n",
       "    .dataframe tbody tr th:only-of-type {\n",
       "        vertical-align: middle;\n",
       "    }\n",
       "\n",
       "    .dataframe tbody tr th {\n",
       "        vertical-align: top;\n",
       "    }\n",
       "\n",
       "    .dataframe thead th {\n",
       "        text-align: right;\n",
       "    }\n",
       "</style>\n",
       "<table border=\"1\" class=\"dataframe\">\n",
       "  <thead>\n",
       "    <tr style=\"text-align: right;\">\n",
       "      <th></th>\n",
       "      <th>max_depth</th>\n",
       "      <th>n_estimators</th>\n",
       "      <th>AUC</th>\n",
       "    </tr>\n",
       "  </thead>\n",
       "  <tbody>\n",
       "    <tr>\n",
       "      <th>59</th>\n",
       "      <td>15</td>\n",
       "      <td>200</td>\n",
       "      <td>0.945453</td>\n",
       "    </tr>\n",
       "    <tr>\n",
       "      <th>57</th>\n",
       "      <td>15</td>\n",
       "      <td>180</td>\n",
       "      <td>0.945440</td>\n",
       "    </tr>\n",
       "    <tr>\n",
       "      <th>58</th>\n",
       "      <td>15</td>\n",
       "      <td>190</td>\n",
       "      <td>0.945402</td>\n",
       "    </tr>\n",
       "    <tr>\n",
       "      <th>56</th>\n",
       "      <td>15</td>\n",
       "      <td>170</td>\n",
       "      <td>0.945323</td>\n",
       "    </tr>\n",
       "    <tr>\n",
       "      <th>55</th>\n",
       "      <td>15</td>\n",
       "      <td>160</td>\n",
       "      <td>0.945265</td>\n",
       "    </tr>\n",
       "    <tr>\n",
       "      <th>54</th>\n",
       "      <td>15</td>\n",
       "      <td>150</td>\n",
       "      <td>0.945179</td>\n",
       "    </tr>\n",
       "    <tr>\n",
       "      <th>53</th>\n",
       "      <td>15</td>\n",
       "      <td>140</td>\n",
       "      <td>0.945005</td>\n",
       "    </tr>\n",
       "    <tr>\n",
       "      <th>52</th>\n",
       "      <td>15</td>\n",
       "      <td>130</td>\n",
       "      <td>0.944996</td>\n",
       "    </tr>\n",
       "    <tr>\n",
       "      <th>51</th>\n",
       "      <td>15</td>\n",
       "      <td>120</td>\n",
       "      <td>0.944995</td>\n",
       "    </tr>\n",
       "    <tr>\n",
       "      <th>49</th>\n",
       "      <td>15</td>\n",
       "      <td>100</td>\n",
       "      <td>0.944940</td>\n",
       "    </tr>\n",
       "    <tr>\n",
       "      <th>50</th>\n",
       "      <td>15</td>\n",
       "      <td>110</td>\n",
       "      <td>0.944922</td>\n",
       "    </tr>\n",
       "    <tr>\n",
       "      <th>47</th>\n",
       "      <td>15</td>\n",
       "      <td>80</td>\n",
       "      <td>0.944844</td>\n",
       "    </tr>\n",
       "    <tr>\n",
       "      <th>48</th>\n",
       "      <td>15</td>\n",
       "      <td>90</td>\n",
       "      <td>0.944817</td>\n",
       "    </tr>\n",
       "    <tr>\n",
       "      <th>46</th>\n",
       "      <td>15</td>\n",
       "      <td>70</td>\n",
       "      <td>0.944486</td>\n",
       "    </tr>\n",
       "    <tr>\n",
       "      <th>45</th>\n",
       "      <td>15</td>\n",
       "      <td>60</td>\n",
       "      <td>0.944138</td>\n",
       "    </tr>\n",
       "    <tr>\n",
       "      <th>44</th>\n",
       "      <td>15</td>\n",
       "      <td>50</td>\n",
       "      <td>0.943964</td>\n",
       "    </tr>\n",
       "    <tr>\n",
       "      <th>43</th>\n",
       "      <td>15</td>\n",
       "      <td>40</td>\n",
       "      <td>0.943460</td>\n",
       "    </tr>\n",
       "    <tr>\n",
       "      <th>42</th>\n",
       "      <td>15</td>\n",
       "      <td>30</td>\n",
       "      <td>0.942978</td>\n",
       "    </tr>\n",
       "    <tr>\n",
       "      <th>41</th>\n",
       "      <td>15</td>\n",
       "      <td>20</td>\n",
       "      <td>0.940635</td>\n",
       "    </tr>\n",
       "    <tr>\n",
       "      <th>40</th>\n",
       "      <td>15</td>\n",
       "      <td>10</td>\n",
       "      <td>0.936633</td>\n",
       "    </tr>\n",
       "    <tr>\n",
       "      <th>37</th>\n",
       "      <td>10</td>\n",
       "      <td>180</td>\n",
       "      <td>0.924615</td>\n",
       "    </tr>\n",
       "    <tr>\n",
       "      <th>36</th>\n",
       "      <td>10</td>\n",
       "      <td>170</td>\n",
       "      <td>0.924550</td>\n",
       "    </tr>\n",
       "    <tr>\n",
       "      <th>38</th>\n",
       "      <td>10</td>\n",
       "      <td>190</td>\n",
       "      <td>0.924464</td>\n",
       "    </tr>\n",
       "    <tr>\n",
       "      <th>39</th>\n",
       "      <td>10</td>\n",
       "      <td>200</td>\n",
       "      <td>0.924435</td>\n",
       "    </tr>\n",
       "    <tr>\n",
       "      <th>35</th>\n",
       "      <td>10</td>\n",
       "      <td>160</td>\n",
       "      <td>0.924390</td>\n",
       "    </tr>\n",
       "    <tr>\n",
       "      <th>34</th>\n",
       "      <td>10</td>\n",
       "      <td>150</td>\n",
       "      <td>0.924329</td>\n",
       "    </tr>\n",
       "    <tr>\n",
       "      <th>32</th>\n",
       "      <td>10</td>\n",
       "      <td>130</td>\n",
       "      <td>0.924274</td>\n",
       "    </tr>\n",
       "    <tr>\n",
       "      <th>33</th>\n",
       "      <td>10</td>\n",
       "      <td>140</td>\n",
       "      <td>0.924175</td>\n",
       "    </tr>\n",
       "    <tr>\n",
       "      <th>29</th>\n",
       "      <td>10</td>\n",
       "      <td>100</td>\n",
       "      <td>0.924008</td>\n",
       "    </tr>\n",
       "    <tr>\n",
       "      <th>31</th>\n",
       "      <td>10</td>\n",
       "      <td>120</td>\n",
       "      <td>0.923990</td>\n",
       "    </tr>\n",
       "    <tr>\n",
       "      <th>30</th>\n",
       "      <td>10</td>\n",
       "      <td>110</td>\n",
       "      <td>0.923902</td>\n",
       "    </tr>\n",
       "    <tr>\n",
       "      <th>28</th>\n",
       "      <td>10</td>\n",
       "      <td>90</td>\n",
       "      <td>0.923704</td>\n",
       "    </tr>\n",
       "    <tr>\n",
       "      <th>27</th>\n",
       "      <td>10</td>\n",
       "      <td>80</td>\n",
       "      <td>0.923702</td>\n",
       "    </tr>\n",
       "    <tr>\n",
       "      <th>24</th>\n",
       "      <td>10</td>\n",
       "      <td>50</td>\n",
       "      <td>0.923554</td>\n",
       "    </tr>\n",
       "    <tr>\n",
       "      <th>25</th>\n",
       "      <td>10</td>\n",
       "      <td>60</td>\n",
       "      <td>0.923525</td>\n",
       "    </tr>\n",
       "    <tr>\n",
       "      <th>26</th>\n",
       "      <td>10</td>\n",
       "      <td>70</td>\n",
       "      <td>0.923389</td>\n",
       "    </tr>\n",
       "    <tr>\n",
       "      <th>23</th>\n",
       "      <td>10</td>\n",
       "      <td>40</td>\n",
       "      <td>0.923162</td>\n",
       "    </tr>\n",
       "    <tr>\n",
       "      <th>22</th>\n",
       "      <td>10</td>\n",
       "      <td>30</td>\n",
       "      <td>0.923044</td>\n",
       "    </tr>\n",
       "    <tr>\n",
       "      <th>21</th>\n",
       "      <td>10</td>\n",
       "      <td>20</td>\n",
       "      <td>0.920332</td>\n",
       "    </tr>\n",
       "    <tr>\n",
       "      <th>20</th>\n",
       "      <td>10</td>\n",
       "      <td>10</td>\n",
       "      <td>0.916339</td>\n",
       "    </tr>\n",
       "    <tr>\n",
       "      <th>2</th>\n",
       "      <td>5</td>\n",
       "      <td>30</td>\n",
       "      <td>0.877326</td>\n",
       "    </tr>\n",
       "    <tr>\n",
       "      <th>3</th>\n",
       "      <td>5</td>\n",
       "      <td>40</td>\n",
       "      <td>0.876482</td>\n",
       "    </tr>\n",
       "    <tr>\n",
       "      <th>17</th>\n",
       "      <td>5</td>\n",
       "      <td>180</td>\n",
       "      <td>0.876149</td>\n",
       "    </tr>\n",
       "    <tr>\n",
       "      <th>18</th>\n",
       "      <td>5</td>\n",
       "      <td>190</td>\n",
       "      <td>0.876024</td>\n",
       "    </tr>\n",
       "    <tr>\n",
       "      <th>19</th>\n",
       "      <td>5</td>\n",
       "      <td>200</td>\n",
       "      <td>0.875830</td>\n",
       "    </tr>\n",
       "    <tr>\n",
       "      <th>16</th>\n",
       "      <td>5</td>\n",
       "      <td>170</td>\n",
       "      <td>0.875826</td>\n",
       "    </tr>\n",
       "    <tr>\n",
       "      <th>10</th>\n",
       "      <td>5</td>\n",
       "      <td>110</td>\n",
       "      <td>0.875686</td>\n",
       "    </tr>\n",
       "    <tr>\n",
       "      <th>4</th>\n",
       "      <td>5</td>\n",
       "      <td>50</td>\n",
       "      <td>0.875653</td>\n",
       "    </tr>\n",
       "    <tr>\n",
       "      <th>13</th>\n",
       "      <td>5</td>\n",
       "      <td>140</td>\n",
       "      <td>0.875558</td>\n",
       "    </tr>\n",
       "    <tr>\n",
       "      <th>14</th>\n",
       "      <td>5</td>\n",
       "      <td>150</td>\n",
       "      <td>0.875542</td>\n",
       "    </tr>\n",
       "    <tr>\n",
       "      <th>12</th>\n",
       "      <td>5</td>\n",
       "      <td>130</td>\n",
       "      <td>0.875374</td>\n",
       "    </tr>\n",
       "    <tr>\n",
       "      <th>11</th>\n",
       "      <td>5</td>\n",
       "      <td>120</td>\n",
       "      <td>0.875370</td>\n",
       "    </tr>\n",
       "    <tr>\n",
       "      <th>15</th>\n",
       "      <td>5</td>\n",
       "      <td>160</td>\n",
       "      <td>0.875289</td>\n",
       "    </tr>\n",
       "    <tr>\n",
       "      <th>9</th>\n",
       "      <td>5</td>\n",
       "      <td>100</td>\n",
       "      <td>0.874606</td>\n",
       "    </tr>\n",
       "    <tr>\n",
       "      <th>5</th>\n",
       "      <td>5</td>\n",
       "      <td>60</td>\n",
       "      <td>0.874390</td>\n",
       "    </tr>\n",
       "    <tr>\n",
       "      <th>1</th>\n",
       "      <td>5</td>\n",
       "      <td>20</td>\n",
       "      <td>0.874259</td>\n",
       "    </tr>\n",
       "    <tr>\n",
       "      <th>6</th>\n",
       "      <td>5</td>\n",
       "      <td>70</td>\n",
       "      <td>0.874134</td>\n",
       "    </tr>\n",
       "    <tr>\n",
       "      <th>8</th>\n",
       "      <td>5</td>\n",
       "      <td>90</td>\n",
       "      <td>0.873624</td>\n",
       "    </tr>\n",
       "    <tr>\n",
       "      <th>7</th>\n",
       "      <td>5</td>\n",
       "      <td>80</td>\n",
       "      <td>0.873454</td>\n",
       "    </tr>\n",
       "    <tr>\n",
       "      <th>0</th>\n",
       "      <td>5</td>\n",
       "      <td>10</td>\n",
       "      <td>0.865718</td>\n",
       "    </tr>\n",
       "  </tbody>\n",
       "</table>\n",
       "</div>"
      ],
      "text/plain": [
       "    max_depth  n_estimators       AUC\n",
       "59         15           200  0.945453\n",
       "57         15           180  0.945440\n",
       "58         15           190  0.945402\n",
       "56         15           170  0.945323\n",
       "55         15           160  0.945265\n",
       "54         15           150  0.945179\n",
       "53         15           140  0.945005\n",
       "52         15           130  0.944996\n",
       "51         15           120  0.944995\n",
       "49         15           100  0.944940\n",
       "50         15           110  0.944922\n",
       "47         15            80  0.944844\n",
       "48         15            90  0.944817\n",
       "46         15            70  0.944486\n",
       "45         15            60  0.944138\n",
       "44         15            50  0.943964\n",
       "43         15            40  0.943460\n",
       "42         15            30  0.942978\n",
       "41         15            20  0.940635\n",
       "40         15            10  0.936633\n",
       "37         10           180  0.924615\n",
       "36         10           170  0.924550\n",
       "38         10           190  0.924464\n",
       "39         10           200  0.924435\n",
       "35         10           160  0.924390\n",
       "34         10           150  0.924329\n",
       "32         10           130  0.924274\n",
       "33         10           140  0.924175\n",
       "29         10           100  0.924008\n",
       "31         10           120  0.923990\n",
       "30         10           110  0.923902\n",
       "28         10            90  0.923704\n",
       "27         10            80  0.923702\n",
       "24         10            50  0.923554\n",
       "25         10            60  0.923525\n",
       "26         10            70  0.923389\n",
       "23         10            40  0.923162\n",
       "22         10            30  0.923044\n",
       "21         10            20  0.920332\n",
       "20         10            10  0.916339\n",
       "2           5            30  0.877326\n",
       "3           5            40  0.876482\n",
       "17          5           180  0.876149\n",
       "18          5           190  0.876024\n",
       "19          5           200  0.875830\n",
       "16          5           170  0.875826\n",
       "10          5           110  0.875686\n",
       "4           5            50  0.875653\n",
       "13          5           140  0.875558\n",
       "14          5           150  0.875542\n",
       "12          5           130  0.875374\n",
       "11          5           120  0.875370\n",
       "15          5           160  0.875289\n",
       "9           5           100  0.874606\n",
       "5           5            60  0.874390\n",
       "1           5            20  0.874259\n",
       "6           5            70  0.874134\n",
       "8           5            90  0.873624\n",
       "7           5            80  0.873454\n",
       "0           5            10  0.865718"
      ]
     },
     "execution_count": 42,
     "metadata": {},
     "output_type": "execute_result"
    }
   ],
   "source": [
    "columns = ['max_depth', 'n_estimators', 'AUC']\n",
    "df_scores = pd.DataFrame(auc_scores, columns=columns)\n",
    "df_scores.sort_values(by='AUC', ascending=False)"
   ]
  },
  {
   "cell_type": "code",
   "execution_count": 41,
   "metadata": {},
   "outputs": [
    {
     "data": {
      "text/plain": [
       "<matplotlib.legend.Legend at 0x1ac089b1650>"
      ]
     },
     "execution_count": 41,
     "metadata": {},
     "output_type": "execute_result"
    },
    {
     "data": {
      "image/png": "[encoded data removed]",
      "text/plain": [
       "<Figure size 640x480 with 1 Axes>"
      ]
     },
     "metadata": {},
     "output_type": "display_data"
    }
   ],
   "source": [
    "for d in [5, 10, 15]:\n",
    "    df_subset = df_scores[df_scores.max_depth == d]\n",
    "    \n",
    "    plt.plot(df_subset['n_estimators'], df_subset['AUC'],\n",
    "             label='max_depth=%d' % d)\n",
    "\n",
    "plt.xlabel('n_estimators')\n",
    "plt.ylabel('AUC')\n",
    "plt.legend()"
   ]
  },
  {
   "cell_type": "markdown",
   "metadata": {},
   "source": [
    "The Random Forest model delivers its best performance when the `max_depth` parameter is set to `15`."
   ]
  },
  {
   "cell_type": "markdown",
   "metadata": {},
   "source": [
    "### XGBoost"
   ]
  },
  {
   "cell_type": "code",
   "execution_count": 43,
   "metadata": {},
   "outputs": [],
   "source": [
    "X_train, X_val, y_train, y_val, dv = prepare_data_for_model(df_train, df_val, target=TARGET, features=features)"
   ]
  },
  {
   "cell_type": "code",
   "execution_count": 44,
   "metadata": {},
   "outputs": [],
   "source": [
    "feature_names = [*dv.get_feature_names_out()]\n",
    "dtrain = xgb.DMatrix(X_train, label=y_train)\n",
    "dval = xgb.DMatrix(X_val, label=y_val)"
   ]
  },
  {
   "cell_type": "code",
   "execution_count": 45,
   "metadata": {},
   "outputs": [],
   "source": [
    "watchlist = [(dtrain, 'train'), (dval, 'val')]"
   ]
  },
  {
   "cell_type": "code",
   "execution_count": 46,
   "metadata": {},
   "outputs": [],
   "source": [
    "%%capture output\n",
    "\n",
    "xgb_params = {\n",
    "    'eta': 0.3, \n",
    "    'max_depth': 6,\n",
    "    'min_child_weight': 1,\n",
    "    \n",
    "    'objective': 'binary:logistic',\n",
    "    'eval_metric': 'auc',\n",
    "    \n",
    "    'nthread': 8,\n",
    "    'seed': SEED,\n",
    "    'verbosity': 1,\n",
    "}\n",
    "\n",
    "model = train_xgboost(params=xgb_params, X=X_train, y=y_train, num_boost_round=200, verbose_eval=5, evals=watchlist)"
   ]
  },
  {
   "cell_type": "code",
   "execution_count": 47,
   "metadata": {},
   "outputs": [],
   "source": [
    "s = output.stdout"
   ]
  },
  {
   "cell_type": "code",
   "execution_count": 48,
   "metadata": {},
   "outputs": [
    {
     "name": "stdout",
     "output_type": "stream",
     "text": [
      "[0]\ttrain-auc:0.89978\tval-auc:0.89228\n",
      "[5]\ttrain-auc:0.92982\tval-auc:0.91954\n",
      "[10]\ttrain-auc:0.94063\tval-auc:0.92946\n",
      "[15]\ttrain-auc:0.94360\tval-auc:0.93135\n",
      "[20]\ttrain-auc:0.94716\tval-auc:0.93261\n",
      "[25]\ttr\n"
     ]
    }
   ],
   "source": [
    "print(s[:200])"
   ]
  },
  {
   "cell_type": "code",
   "execution_count": 49,
   "metadata": {},
   "outputs": [],
   "source": [
    "df_score = parse_xgboost_output(output)"
   ]
  },
  {
   "cell_type": "code",
   "execution_count": 50,
   "metadata": {},
   "outputs": [
    {
     "data": {
      "text/plain": [
       "<matplotlib.legend.Legend at 0x1ac089b0890>"
      ]
     },
     "execution_count": 50,
     "metadata": {},
     "output_type": "execute_result"
    },
    {
     "data": {
      "image/png": "[encoded data removed]",
      "text/plain": [
       "<Figure size 640x480 with 1 Axes>"
      ]
     },
     "metadata": {},
     "output_type": "display_data"
    }
   ],
   "source": [
    "plt.plot(df_score.num_iter, df_score.val_auc, label='val')\n",
    "plt.xlabel('num_iter')\n",
    "plt.ylabel('AUC')\n",
    "plt.legend()"
   ]
  },
  {
   "cell_type": "markdown",
   "metadata": {},
   "source": [
    "### XGBoost parameter tuning"
   ]
  },
  {
   "cell_type": "code",
   "execution_count": 51,
   "metadata": {},
   "outputs": [],
   "source": [
    "scores = {}"
   ]
  },
  {
   "cell_type": "code",
   "execution_count": 60,
   "metadata": {},
   "outputs": [],
   "source": [
    "%%capture output\n",
    "\n",
    "xgb_params = {\n",
    "    'eta': 0.01, \n",
    "    'max_depth': 6,\n",
    "    'min_child_weight': 1,\n",
    "    \n",
    "    'objective': 'binary:logistic',\n",
    "    'eval_metric': 'auc',\n",
    "\n",
    "    'nthread': 8,\n",
    "    'seed': SEED,\n",
    "    'verbosity': 1,\n",
    "}\n",
    "\n",
    "model = train_xgboost(params=xgb_params, X=X_train, y=y_train, num_boost_round=200, verbose_eval=5, evals=watchlist)"
   ]
  },
  {
   "cell_type": "code",
   "execution_count": 61,
   "metadata": {},
   "outputs": [],
   "source": [
    "key = f\"eta={xgb_params['eta']}\"\n",
    "scores[key] = parse_xgboost_output(output)"
   ]
  },
  {
   "cell_type": "code",
   "execution_count": 62,
   "metadata": {},
   "outputs": [
    {
     "data": {
      "text/plain": [
       "dict_keys(['eta=1.0', 'eta=0.5', 'eta=0.3', 'eta=0.1', 'eta=0.01'])"
      ]
     },
     "execution_count": 62,
     "metadata": {},
     "output_type": "execute_result"
    }
   ],
   "source": [
    "scores.keys()"
   ]
  },
  {
   "cell_type": "code",
   "execution_count": 63,
   "metadata": {},
   "outputs": [
    {
     "data": {
      "text/plain": [
       "<matplotlib.legend.Legend at 0x1ac086cea10>"
      ]
     },
     "execution_count": 63,
     "metadata": {},
     "output_type": "execute_result"
    },
    {
     "data": {
      "image/png": "[encoded data removed]",
      "text/plain": [
       "<Figure size 640x480 with 1 Axes>"
      ]
     },
     "metadata": {},
     "output_type": "display_data"
    }
   ],
   "source": [
    "for eta, df_score in scores.items():\n",
    "    plt.plot(df_score.num_iter, df_score.val_auc, label=eta)\n",
    "\n",
    "plt.xlabel('num_iter')\n",
    "plt.ylabel('AUC')\n",
    "plt.legend()"
   ]
  },
  {
   "cell_type": "markdown",
   "metadata": {},
   "source": [
    "The XGBoost model delivers its best performance when the `eta` parameter is set to `0.3`."
   ]
  },
  {
   "cell_type": "code",
   "execution_count": 64,
   "metadata": {},
   "outputs": [],
   "source": [
    "scores = {}"
   ]
  },
  {
   "cell_type": "code",
   "execution_count": 73,
   "metadata": {},
   "outputs": [],
   "source": [
    "%%capture output\n",
    "\n",
    "xgb_params = {\n",
    "    'eta': 0.3, \n",
    "    'max_depth': 15,\n",
    "    'min_child_weight': 1,\n",
    "    \n",
    "    'objective': 'binary:logistic',\n",
    "    'eval_metric': 'auc',\n",
    "\n",
    "    'nthread': 8,\n",
    "    'seed': SEED,\n",
    "    'verbosity': 1,\n",
    "}\n",
    "\n",
    "model = train_xgboost(params=xgb_params, X=X_train, y=y_train, num_boost_round=200, verbose_eval=5, evals=watchlist)"
   ]
  },
  {
   "cell_type": "code",
   "execution_count": 74,
   "metadata": {},
   "outputs": [],
   "source": [
    "key = f\"max_depth={xgb_params['max_depth']}\"\n",
    "scores[key] = parse_xgboost_output(output)"
   ]
  },
  {
   "cell_type": "code",
   "execution_count": 75,
   "metadata": {},
   "outputs": [
    {
     "data": {
      "text/plain": [
       "<matplotlib.legend.Legend at 0x1ac07b00090>"
      ]
     },
     "execution_count": 75,
     "metadata": {},
     "output_type": "execute_result"
    },
    {
     "data": {
      "image/png": "[encoded data removed]",
      "text/plain": [
       "<Figure size 640x480 with 1 Axes>"
      ]
     },
     "metadata": {},
     "output_type": "display_data"
    }
   ],
   "source": [
    "for max_depth, df_score in scores.items():\n",
    "    plt.plot(df_score.num_iter, df_score.val_auc, label=max_depth)\n",
    "\n",
    "plt.xlabel('num_iter')\n",
    "plt.ylabel('AUC')\n",
    "plt.legend()"
   ]
  },
  {
   "cell_type": "markdown",
   "metadata": {},
   "source": [
    "The XGBoost model delivers its best performance when the `max_depth` parameter is set to `10`."
   ]
  },
  {
   "cell_type": "code",
   "execution_count": 76,
   "metadata": {},
   "outputs": [],
   "source": [
    "scores = {}"
   ]
  },
  {
   "cell_type": "code",
   "execution_count": 81,
   "metadata": {},
   "outputs": [],
   "source": [
    "%%capture output\n",
    "\n",
    "xgb_params = {\n",
    "    'eta': 0.3, \n",
    "    'max_depth': 10,\n",
    "    'min_child_weight': 30,\n",
    "    \n",
    "    'objective': 'binary:logistic',\n",
    "    'eval_metric': 'auc',\n",
    "\n",
    "    'nthread': 8,\n",
    "    'seed': SEED,\n",
    "    'verbosity': 1,\n",
    "}\n",
    "\n",
    "model = train_xgboost(params=xgb_params, X=X_train, y=y_train, num_boost_round=200, verbose_eval=5, evals=watchlist)"
   ]
  },
  {
   "cell_type": "code",
   "execution_count": 82,
   "metadata": {},
   "outputs": [],
   "source": [
    "key = f\"min_child_weight={xgb_params['min_child_weight']}\"\n",
    "scores[key] = parse_xgboost_output(output)"
   ]
  },
  {
   "cell_type": "code",
   "execution_count": 83,
   "metadata": {},
   "outputs": [
    {
     "data": {
      "text/plain": [
       "<matplotlib.legend.Legend at 0x1ac081d5f50>"
      ]
     },
     "execution_count": 83,
     "metadata": {},
     "output_type": "execute_result"
    },
    {
     "data": {
      "image/png": "[encoded data removed]",
      "text/plain": [
       "<Figure size 640x480 with 1 Axes>"
      ]
     },
     "metadata": {},
     "output_type": "display_data"
    }
   ],
   "source": [
    "for min_child_weight, df_score in scores.items():\n",
    "    plt.plot(df_score.num_iter, df_score.val_auc, label=min_child_weight)\n",
    "\n",
    "plt.xlabel('num_iter')\n",
    "plt.ylabel('AUC')\n",
    "plt.legend()"
   ]
  },
  {
   "cell_type": "markdown",
   "metadata": {},
   "source": [
    "The XGBoost model delivers its best performance when the `min_child_weight` parameter is set to `1`."
   ]
  },
  {
   "cell_type": "markdown",
   "metadata": {},
   "source": [
    "## Selecting the Final Model"
   ]
  },
  {
   "cell_type": "markdown",
   "metadata": {},
   "source": [
    "### Logistic Regression"
   ]
  },
  {
   "cell_type": "markdown",
   "metadata": {},
   "source": [
    "Irrespective of parameter adjustments, the logistic regression consistently exhibited the poorest performance in terms of results."
   ]
  },
  {
   "cell_type": "markdown",
   "metadata": {},
   "source": [
    "### Decision Tree"
   ]
  },
  {
   "cell_type": "code",
   "execution_count": 84,
   "metadata": {},
   "outputs": [],
   "source": [
    "model_params = {\n",
    "    'max_depth': 10,\n",
    "    'min_samples_leaf': 1,\n",
    "    'random_state': SEED\n",
    "}\n",
    "\n",
    "model, dv, evaluation_metrics = train_model_and_evaluate(df, features=features, target=TARGET, trainer='decision_tree',\n",
    "                                                        model_params=model_params, kfold_splits=KFOLD_SPLITS, seed=SEED)"
   ]
  },
  {
   "cell_type": "code",
   "execution_count": 85,
   "metadata": {},
   "outputs": [
    {
     "data": {
      "text/plain": [
       "0.93"
      ]
     },
     "execution_count": 85,
     "metadata": {},
     "output_type": "execute_result"
    }
   ],
   "source": [
    "round(evaluation_metrics['AUC'].mean, 2)"
   ]
  },
  {
   "cell_type": "markdown",
   "metadata": {},
   "source": [
    "### Random Forest"
   ]
  },
  {
   "cell_type": "code",
   "execution_count": 86,
   "metadata": {},
   "outputs": [],
   "source": [
    "model_params = {\n",
    "    'max_depth': 15,\n",
    "    'n_estimators': 20,\n",
    "    'min_samples_leaf': 1,\n",
    "    'random_state': SEED,\n",
    "    'n_jobs': N_JOBS\n",
    "}\n",
    "\n",
    "model, dv, evaluation_metrics = train_model_and_evaluate(df, features=features, target=TARGET, trainer='random_forest',\n",
    "                                                        model_params=model_params, kfold_splits=KFOLD_SPLITS, seed=SEED)"
   ]
  },
  {
   "cell_type": "code",
   "execution_count": 87,
   "metadata": {},
   "outputs": [
    {
     "data": {
      "text/plain": [
       "0.944"
      ]
     },
     "execution_count": 87,
     "metadata": {},
     "output_type": "execute_result"
    }
   ],
   "source": [
    "round(evaluation_metrics['AUC'].mean, 3)"
   ]
  },
  {
   "cell_type": "markdown",
   "metadata": {},
   "source": [
    "### XGBoost"
   ]
  },
  {
   "cell_type": "code",
   "execution_count": 88,
   "metadata": {},
   "outputs": [],
   "source": [
    "model_params = {\n",
    "    'eta': 0.3, \n",
    "    'max_depth': 10,\n",
    "    'min_child_weight': 1,\n",
    "\n",
    "    'objective': 'binary:logistic',\n",
    "    'eval_metric': 'auc',\n",
    "\n",
    "    'nthread': 8,\n",
    "    'seed': 1,\n",
    "    'verbosity': 1,\n",
    "}\n",
    "\n",
    "model, dv, evaluation_metrics = train_model_and_evaluate(df, features=features, target=TARGET, trainer='xgboost',\n",
    "                                                        model_params=model_params, kfold_splits=KFOLD_SPLITS, seed=SEED)"
   ]
  },
  {
   "cell_type": "code",
   "execution_count": 89,
   "metadata": {},
   "outputs": [
    {
     "data": {
      "text/plain": [
       "0.957"
      ]
     },
     "execution_count": 89,
     "metadata": {},
     "output_type": "execute_result"
    }
   ],
   "source": [
    "round(evaluation_metrics['AUC'].mean, 3)"
   ]
  },
  {
   "cell_type": "markdown",
   "metadata": {},
   "source": [
    "Observing the results, it's evident that XGBoost demonstrates the highest performance, achieving an AUC score of 0.95."
   ]
  }
 ],
 "metadata": {
  "kernelspec": {
   "display_name": "hotel_booking_cancellation_prediction-AJhpmU7t",
   "language": "python",
   "name": "python3"
  },
  "language_info": {
   "codemirror_mode": {
    "name": "ipython",
    "version": 3
   },
   "file_extension": ".py",
   "mimetype": "text/x-python",
   "name": "python",
   "nbconvert_exporter": "python",
   "pygments_lexer": "ipython3",
   "version": "3.11.6"
  }
 },
 "nbformat": 4,
 "nbformat_minor": 2
}
